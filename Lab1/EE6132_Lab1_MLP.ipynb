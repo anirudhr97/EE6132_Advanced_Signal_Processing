{
  "nbformat": 4,
  "nbformat_minor": 2,
  "metadata": {
    "colab": {
      "name": "EE6132_Lab1_MLP.ipynb",
      "provenance": [],
      "collapsed_sections": []
    },
    "kernelspec": {
      "name": "python3",
      "display_name": "Python 3.8.11 64-bit ('env_EE6132': conda)"
    },
    "language_info": {
      "name": "python",
      "version": "3.7.4",
      "mimetype": "text/x-python",
      "codemirror_mode": {
        "name": "ipython",
        "version": 3
      },
      "pygments_lexer": "ipython3",
      "nbconvert_exporter": "python",
      "file_extension": ".py"
    },
    "interpreter": {
      "hash": "86109a7b1bb015d6732ec8d8082a2f931660e00a2fb44883d8bfe33851e94881"
    }
  },
  "cells": [
    {
      "cell_type": "code",
      "execution_count": 1,
      "source": [
        "import wandb\r\n",
        "import numpy as np\r\n",
        "from tqdm.auto import tqdm\r\n",
        "import pprint\r\n",
        "import matplotlib.pyplot as plt\r\n",
        "import keras\r\n",
        "from keras.datasets import mnist"
      ],
      "outputs": [
        {
          "output_type": "error",
          "ename": "ModuleNotFoundError",
          "evalue": "No module named 'wandb'",
          "traceback": [
            "\u001b[1;31m---------------------------------------------------------------------------\u001b[0m",
            "\u001b[1;31mModuleNotFoundError\u001b[0m                       Traceback (most recent call last)",
            "\u001b[1;32m<ipython-input-1-253e049c26e9>\u001b[0m in \u001b[0;36m<module>\u001b[1;34m\u001b[0m\n\u001b[1;32m----> 1\u001b[1;33m \u001b[1;32mimport\u001b[0m \u001b[0mwandb\u001b[0m\u001b[1;33m\u001b[0m\u001b[1;33m\u001b[0m\u001b[0m\n\u001b[0m\u001b[0;32m      2\u001b[0m \u001b[1;32mimport\u001b[0m \u001b[0mnumpy\u001b[0m \u001b[1;32mas\u001b[0m \u001b[0mnp\u001b[0m\u001b[1;33m\u001b[0m\u001b[1;33m\u001b[0m\u001b[0m\n\u001b[0;32m      3\u001b[0m \u001b[1;32mfrom\u001b[0m \u001b[0mtqdm\u001b[0m\u001b[1;33m.\u001b[0m\u001b[0mauto\u001b[0m \u001b[1;32mimport\u001b[0m \u001b[0mtqdm\u001b[0m\u001b[1;33m\u001b[0m\u001b[1;33m\u001b[0m\u001b[0m\n\u001b[0;32m      4\u001b[0m \u001b[1;32mimport\u001b[0m \u001b[0mpprint\u001b[0m\u001b[1;33m\u001b[0m\u001b[1;33m\u001b[0m\u001b[0m\n\u001b[0;32m      5\u001b[0m \u001b[1;32mimport\u001b[0m \u001b[0mmatplotlib\u001b[0m\u001b[1;33m.\u001b[0m\u001b[0mpyplot\u001b[0m \u001b[1;32mas\u001b[0m \u001b[0mplt\u001b[0m\u001b[1;33m\u001b[0m\u001b[1;33m\u001b[0m\u001b[0m\n",
            "\u001b[1;31mModuleNotFoundError\u001b[0m: No module named 'wandb'"
          ]
        }
      ],
      "metadata": {
        "id": "bpAn9v9eCVNG"
      }
    },
    {
      "cell_type": "code",
      "execution_count": null,
      "source": [
        "%%capture\r\n",
        "wandb.init(project='EE6132_Lab1', entity='ani_r')"
      ],
      "outputs": [],
      "metadata": {
        "id": "n0ekYJmxAX30"
      }
    },
    {
      "cell_type": "markdown",
      "source": [
        "# Data Loading"
      ],
      "metadata": {
        "id": "mdRzwOW_Bfbf"
      }
    },
    {
      "cell_type": "code",
      "execution_count": null,
      "source": [
        "def load_mnist(return_images=False, test=False, seed_value=0):\r\n",
        "    '''\r\n",
        "    Function which returns a dictionary containing the shuffled version of the MNIST dataset.\r\n",
        "    If test is True, only train and val are returned, should be interpreted as the train+val and test data.\r\n",
        "    '''\r\n",
        "    (x_train, y_train), (x_test, y_test) = keras.datasets.mnist.load_data()\r\n",
        "\r\n",
        "    # shuffling data\r\n",
        "    np.random.seed(seed_value)\r\n",
        "    train_shuffler = np.random.shuffle(np.arange(60000))\r\n",
        "    x_train, y_train = x_train[train_shuffler][0], y_train[train_shuffler][0]\r\n",
        "    test_shuffler = np.random.shuffle(np.arange(10000))\r\n",
        "    x_test, y_test = x_test[test_shuffler][0], y_test[test_shuffler][0]\r\n",
        "\r\n",
        "    # normalizing the input data\r\n",
        "    x_train = np.array(x_train/255).astype('float32')\r\n",
        "    x_test = np.array(x_test/255).astype('float32')\r\n",
        "\r\n",
        "    # partitioning the training data into train and val sets\r\n",
        "    if test==False:\r\n",
        "        x_train, x_val = x_train[:54000], x_train[54000:]\r\n",
        "        y_train, y_val = y_train[:54000], y_train[54000:]\r\n",
        "\r\n",
        "        if (return_images==False):\r\n",
        "            return {\r\n",
        "            'train': {\r\n",
        "                'X': x_train.reshape([-1, 784]),\r\n",
        "                'Y': y_train.reshape([54000])\r\n",
        "                },\r\n",
        "            'val': {\r\n",
        "                'X': x_val.reshape([-1, 784]),\r\n",
        "                'Y': y_val.reshape([6000])\r\n",
        "                },\r\n",
        "            'test': {\r\n",
        "                'X': x_test.reshape([-1, 784]),\r\n",
        "                'Y': y_test.reshape([10000])\r\n",
        "                }\r\n",
        "            }\r\n",
        "\r\n",
        "        else :\r\n",
        "            return {\r\n",
        "            'train': {\r\n",
        "                'X': x_train,\r\n",
        "                'Y': y_train\r\n",
        "                },\r\n",
        "            'val': {\r\n",
        "                'X': x_val,\r\n",
        "                'Y': y_val\r\n",
        "                },\r\n",
        "            'test': {\r\n",
        "                'X': x_test,\r\n",
        "                'Y': y_test\r\n",
        "                }\r\n",
        "            }\r\n",
        "\r\n",
        "    else:\r\n",
        "        print('train = Old Train + Old Val', 'val = Old Test', sep='\\n')\r\n",
        "        return {\r\n",
        "            'train': {\r\n",
        "                'X': x_train.reshape([-1, 784]),\r\n",
        "                'Y': y_train.reshape([60000])\r\n",
        "                },\r\n",
        "            'val': {\r\n",
        "                'X': x_test.reshape([-1, 784]),\r\n",
        "                'Y': y_test.reshape([10000])\r\n",
        "                }\r\n",
        "        }\r\n"
      ],
      "outputs": [],
      "metadata": {
        "id": "lMBfRylhAYCa"
      }
    },
    {
      "cell_type": "code",
      "execution_count": null,
      "source": [],
      "outputs": [],
      "metadata": {
        "id": "Lf2WGUUXAYFa"
      }
    },
    {
      "cell_type": "markdown",
      "source": [
        "# Rough Work"
      ],
      "metadata": {
        "id": "E0fA2IVtDPxD"
      }
    },
    {
      "cell_type": "code",
      "execution_count": 7,
      "source": [
        "np.random.seed(1)\n",
        "a = np.random.shuffle(np.arange(10))\n",
        "b = np.random.shuffle(np.arange(10))\n",
        "print(a)\n",
        "print(b)"
      ],
      "outputs": [
        {
          "output_type": "stream",
          "name": "stdout",
          "text": [
            "None\n",
            "None\n"
          ]
        }
      ],
      "metadata": {
        "colab": {
          "base_uri": "https://localhost:8080/"
        },
        "id": "YsSjI6U1AYUW",
        "outputId": "5a7e8972-af00-420b-f183-c735f1ce81c5"
      }
    }
  ]
}