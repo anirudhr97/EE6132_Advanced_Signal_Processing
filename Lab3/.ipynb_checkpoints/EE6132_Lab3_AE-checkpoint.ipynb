{
 "cells": [
  {
   "cell_type": "code",
   "execution_count": null,
   "metadata": {
    "id": "azYI9OFS-m_l"
   },
   "outputs": [],
   "source": [
    "# !pip install wandb --upgrade hello\n",
    "# !pip install keras"
   ]
  },
  {
   "cell_type": "code",
   "execution_count": null,
   "metadata": {
    "colab": {
     "base_uri": "https://localhost:8080/"
    },
    "id": "HR6aBoqLTUXV",
    "outputId": "10e62308-7886-47ad-d7bd-87ea6b8bbe48"
   },
   "outputs": [
    {
     "name": "stdout",
     "output_type": "stream",
     "text": [
      "Mounted at /content/drive\n"
     ]
    }
   ],
   "source": [
    "# Mounting Google Drive\n",
    "from google.colab import drive\n",
    "drive.mount('/content/drive')"
   ]
  },
  {
   "cell_type": "code",
   "execution_count": null,
   "metadata": {
    "id": "bpAn9v9eCVNG"
   },
   "outputs": [],
   "source": [
    "# Importing relevant libraries\n",
    "import numpy as np\n",
    "from scipy import linalg as LA\n",
    "import pandas as pd\n",
    "import torch\n",
    "import tensorflow as tf\n",
    "import keras\n",
    "import seaborn as sns\n",
    "import matplotlib.pyplot as plt\n",
    "from keras.datasets import mnist\n",
    "\n",
    "from sklearn import metrics\n",
    "from tqdm.auto import tqdm\n",
    "import pprint"
   ]
  },
  {
   "cell_type": "code",
   "execution_count": null,
   "metadata": {
    "id": "i-oEGwNOWUci"
   },
   "outputs": [],
   "source": [
    "from torchvision import datasets\n",
    "from torchvision.transforms import ToTensor\n",
    "from torch.utils.data import DataLoader\n",
    "from torch import optim\n",
    "import torch.nn as nn\n",
    "from torch.autograd import Variable"
   ]
  },
  {
   "cell_type": "code",
   "execution_count": null,
   "metadata": {
    "id": "j_v657dT1v0G"
   },
   "outputs": [],
   "source": [
    "import time"
   ]
  },
  {
   "cell_type": "code",
   "execution_count": null,
   "metadata": {
    "colab": {
     "base_uri": "https://localhost:8080/"
    },
    "id": "2Fm7Qdxxx732",
    "outputId": "2e74af6a-4529-4430-f088-f2fb89369535"
   },
   "outputs": [
    {
     "name": "stdout",
     "output_type": "stream",
     "text": [
      "Using cpu\n"
     ]
    }
   ],
   "source": [
    "# Device configuration\n",
    "device = torch.device('cuda' if torch.cuda.is_available() else 'cpu')\n",
    "print('Using', device)"
   ]
  },
  {
   "cell_type": "code",
   "execution_count": null,
   "metadata": {
    "id": "rRL-aJV_9WNj"
   },
   "outputs": [],
   "source": [
    "direc_main = './drive/MyDrive/Semester_7/Advanced_Signal_Processing/A3_AE/'\n",
    "direc_pics = './drive/MyDrive/Semester_7/Advanced_Signal_Processing/A3_AE/pics/'"
   ]
  },
  {
   "cell_type": "code",
   "execution_count": null,
   "metadata": {
    "id": "n0ekYJmxAX30"
   },
   "outputs": [],
   "source": [
    "%%capture\n",
    "# Logging into wandb to log the models we train for reference\n",
    "wandb.login(key='19838da47619a19885f247f0e4dc5fb5d32683d2', force=True)\n",
    "# wandb.init(project='EE6132_Lab2_CNN', entity='ani_r')"
   ]
  },
  {
   "cell_type": "markdown",
   "metadata": {
    "id": "b2-XDxmZV7lk"
   },
   "source": [
    "# Data Loading"
   ]
  },
  {
   "cell_type": "markdown",
   "metadata": {
    "id": "5XrTMmhaV_mr"
   },
   "source": [
    "## From Keras"
   ]
  },
  {
   "cell_type": "code",
   "execution_count": null,
   "metadata": {
    "id": "lMBfRylhAYCa"
   },
   "outputs": [],
   "source": [
    "def loadMNIST(val_samples=10000, return_images=False, is_val_split=False, seed_value=0):\n",
    "    '''\n",
    "    ################\n",
    "    Function which returns a dictionary containing the shuffled version of the MNIST dataset.\n",
    "    Arguments:\n",
    "    val_samples     [int]   Number of validation samples to take out of the training set of 60K samples     (default: 10K)\n",
    "    return_images   [bool]  Whether we need to return images            (default: False)\n",
    "                                True: returns images\n",
    "                                False: returns flattened vectors\n",
    "    is_val_split    [bool]  Whether validation split needs to be done   (default: False)\n",
    "                                True: returns train(60K-val_samples), validation(val_samples) and test(10K)\n",
    "                                False: returns train(60K) and test(10K)\n",
    "    seed            [int]   Seed value for the numpy random shuffling   (default: 0)\n",
    "    ########\n",
    "    Return:\n",
    "    Dictionary containing the numpy arrays corresponding to train, test and val(if is_val_split==True)\n",
    "                    dict:   train:  X\n",
    "                                    y\n",
    "                            test:   X\n",
    "                                    y\n",
    "                            val:    X           (if is_val_split == True)\n",
    "                                    y           (if is_val_split == True)\n",
    "    ################\n",
    "    '''\n",
    "\n",
    "    # Loading MNIST data onto numpy arrays\n",
    "    (x_train, y_train), (x_test, y_test) = keras.datasets.mnist.load_data()\n",
    "\n",
    "    # Shuffling data\n",
    "    np.random.seed(seed_value)\n",
    "    train_shuffler = np.random.permutation(60000)\n",
    "    x_train, y_train = x_train[train_shuffler], y_train[train_shuffler]\n",
    "    test_shuffler = np.random.permutation(10000)\n",
    "    x_test, y_test = x_test[test_shuffler], y_test[test_shuffler]\n",
    "\n",
    "    # Normalizing the input data\n",
    "    x_train = np.array(x_train/255.0, dtype='float32')\n",
    "    x_test = np.array(x_test/255.0, dtype='float32')\n",
    "\n",
    "    ## Splitting data appropriately\n",
    "    # Number of training samples \n",
    "    train_samples = 60000 - val_samples\n",
    "\n",
    "    if is_val_split == True:\n",
    "        # Splitting the train set into the new train and val sets\n",
    "        x_train, x_val = x_train[:train_samples], x_train[train_samples:]\n",
    "        y_train, y_val = y_train[:train_samples], y_train[train_samples:]\n",
    "\n",
    "        # Flattening the 28x28 images into vectors and then returning\n",
    "        if (return_images==False):\n",
    "            return {\n",
    "                'train':{\n",
    "                    'X': x_train.reshape([train_samples, 784]),\n",
    "                    'Y': y_train.reshape([train_samples])\n",
    "                },\n",
    "                'val':{\n",
    "                    'X': x_val.reshape([val_samples, 784]),\n",
    "                    'Y': y_val.reshape([val_samples])\n",
    "                },\n",
    "                'test':{\n",
    "                    'X': x_test.reshape([10000, 784]),\n",
    "                    'Y': y_test.reshape([10000])\n",
    "                }\n",
    "            }\n",
    "        # Returning the 28x28 images as is\n",
    "        else :\n",
    "            return {\n",
    "                'train':{\n",
    "                    'X': x_train,\n",
    "                    'Y': y_train\n",
    "                },\n",
    "                'val':{\n",
    "                    'X': x_val,\n",
    "                    'Y': y_val\n",
    "                },\n",
    "                'test':{\n",
    "                    'X': x_test,\n",
    "                    'Y': y_test\n",
    "                }\n",
    "            }\n",
    "    # Training set is not split\n",
    "    else:\n",
    "        # Flattening the images and then returning\n",
    "        if (return_images==False):\n",
    "            return {\n",
    "                'train':{\n",
    "                    'X': x_train.reshape([60000, 784]),\n",
    "                    'Y': y_train.reshape([60000])\n",
    "                },\n",
    "                'test':{\n",
    "                    'X': x_test.reshape([10000, 784]),\n",
    "                    'Y': y_test.reshape([10000])\n",
    "                }\n",
    "            }\n",
    "        # Returning the images as is\n",
    "        else :\n",
    "            return {\n",
    "                'train':{\n",
    "                    'X': x_train,\n",
    "                    'Y': y_train\n",
    "                },\n",
    "                'test':{\n",
    "                    'X': x_test,\n",
    "                    'Y': y_test\n",
    "                }\n",
    "            }\n"
   ]
  },
  {
   "cell_type": "code",
   "execution_count": null,
   "metadata": {
    "colab": {
     "base_uri": "https://localhost:8080/"
    },
    "id": "d8jH7NNXdiN2",
    "outputId": "2366de76-3499-4cdb-884a-c4ca2b882013"
   },
   "outputs": [
    {
     "name": "stdout",
     "output_type": "stream",
     "text": [
      "Downloading data from https://storage.googleapis.com/tensorflow/tf-keras-datasets/mnist.npz\n",
      "11493376/11490434 [==============================] - 0s 0us/step\n",
      "11501568/11490434 [==============================] - 0s 0us/step\n"
     ]
    }
   ],
   "source": [
    "# Loading data as flattened vectors with no validation set\n",
    "data = loadMNIST()\n",
    "\n",
    "mean_train = np.mean(data['train']['X'], axis=0)\n",
    "mean_test = np.mean(data['test']['X'], axis=0)\n",
    "# Making a zero mean data set\n",
    "data_zero = {\n",
    "    'train': {\n",
    "        'X': data['train']['X'] - mean_train,\n",
    "        'Y': data['train']['Y']\n",
    "    },\n",
    "    'test': {\n",
    "        'X': data['test']['X'] - mean_test,\n",
    "        'Y': data['test']['Y']\n",
    "    }\n",
    "}"
   ]
  },
  {
   "cell_type": "code",
   "execution_count": null,
   "metadata": {
    "colab": {
     "base_uri": "https://localhost:8080/"
    },
    "id": "A9rC-CIcdXwD",
    "outputId": "a4f3fc56-213c-45da-80cf-0a216b13e589"
   },
   "outputs": [
    {
     "name": "stdout",
     "output_type": "stream",
     "text": [
      "0.0\n",
      "-0.5472844\n",
      "1.0\n",
      "0.9999162\n"
     ]
    }
   ],
   "source": [
    "print(np.min(data['train']['X']))\n",
    "print(np.min(data_zero['train']['X']))\n",
    "\n",
    "print(np.max(data['train']['X']))\n",
    "print(np.max(data_zero['train']['X']))"
   ]
  },
  {
   "cell_type": "markdown",
   "metadata": {
    "id": "zegdKFYwWHMh"
   },
   "source": [
    "## From PyTorch"
   ]
  },
  {
   "cell_type": "code",
   "execution_count": null,
   "metadata": {
    "colab": {
     "base_uri": "https://localhost:8080/",
     "height": 417,
     "referenced_widgets": [
      "99cd6e17eb2c4e69b4ab6cdb7147cd11",
      "078a1973ac85401b978df3d011256465",
      "fe54e72347674b5bb97cdb3199402609",
      "b3b2a92cb9e94edfb6c3a2573c8e2103",
      "f014c99bbc874b94ab6489fff2b340f2",
      "c18812be47e64a2fa9d0dfcd02d623f7",
      "f69e1458ac5d46f390e3cfe1333057b5",
      "86baa0c42d4041fe940288c0933c1874",
      "c30f5b2c1cf6422fa9a58fd1dcf7edbd",
      "550fa2a0893448f98ac04c9986878b15",
      "31b814b056bb4458ad12943333829443",
      "e928a16f51fb48409ff749ea3f15a9bb",
      "6c15205eebae4ee784f06e850b5bd038",
      "13545109d6dd4572952b866bc079ce07",
      "3f88c449286e4a2dbc38b63694996b1b",
      "677e03eaa96f47e7859643d29d01d255",
      "995bde12caa540ab9ac2d800806ce510",
      "7005aa982ecf4c8a8b5ca7879d759b83",
      "5e7ef5f82893421892b182482e549a5d",
      "a3078cbb4a9f4ad98b6547456edfacdf",
      "c56a621895e241aba8709b2d9b332ac4",
      "39477aa513e24bfbb22778f7c7e7cc24",
      "98a57ea904b34928b00e9179b9048282",
      "cd73046d59354fe2b56fea5c3e34fac3",
      "37799ce26d604211b84e51de427112e7",
      "e8b36c13246b43b8ac091a1a7b883c7b",
      "660e1a491d7a4d6899cf93ef3826391e",
      "f9ff31b9f10a43ffab1dac5852203a5b",
      "8c149355fa4040398b3ae580b43d53ed",
      "572adedcc25e40638feb466e0b0d78fb",
      "3c19210edce44c2c80b070c32a9d3edc",
      "a51f97a6dbc3458c9b6d94a60442fad2",
      "aa568e8b72484b0683136c92e31f991c",
      "074e253f296e40abacdd08af65db086c",
      "7bca19d74d6d4eff9b1ce62fb6f65631",
      "6161e829f7b8417da775c2d9ce508d69",
      "48e19d4a62234ee7b1c7180bce93770d",
      "7dfc5a539133456bad0071126f428419",
      "4b520437d51b4b8a9e4a6f16467c56f9",
      "45f88a25113049d486da61b197c9e5cf",
      "ac0a0c32b3434277afdb27ca53043c3b",
      "5d21447598d64adda8a07ba511818a37",
      "0d7717c9c8aa4d0aa83bd70bae8b55a2",
      "cf710d83b5a24e71b0af4a2230376ac0"
     ]
    },
    "id": "bb_XXHP1WK8f",
    "outputId": "2e140939-3499-4c60-a364-bc9a40e3ac98"
   },
   "outputs": [
    {
     "name": "stdout",
     "output_type": "stream",
     "text": [
      "Downloading http://yann.lecun.com/exdb/mnist/train-images-idx3-ubyte.gz\n",
      "Downloading http://yann.lecun.com/exdb/mnist/train-images-idx3-ubyte.gz to data/MNIST/raw/train-images-idx3-ubyte.gz\n"
     ]
    },
    {
     "data": {
      "application/vnd.jupyter.widget-view+json": {
       "model_id": "99cd6e17eb2c4e69b4ab6cdb7147cd11",
       "version_major": 2,
       "version_minor": 0
      },
      "text/plain": [
       "  0%|          | 0/9912422 [00:00<?, ?it/s]"
      ]
     },
     "metadata": {},
     "output_type": "display_data"
    },
    {
     "name": "stdout",
     "output_type": "stream",
     "text": [
      "Extracting data/MNIST/raw/train-images-idx3-ubyte.gz to data/MNIST/raw\n",
      "\n",
      "Downloading http://yann.lecun.com/exdb/mnist/train-labels-idx1-ubyte.gz\n",
      "Downloading http://yann.lecun.com/exdb/mnist/train-labels-idx1-ubyte.gz to data/MNIST/raw/train-labels-idx1-ubyte.gz\n"
     ]
    },
    {
     "data": {
      "application/vnd.jupyter.widget-view+json": {
       "model_id": "e928a16f51fb48409ff749ea3f15a9bb",
       "version_major": 2,
       "version_minor": 0
      },
      "text/plain": [
       "  0%|          | 0/28881 [00:00<?, ?it/s]"
      ]
     },
     "metadata": {},
     "output_type": "display_data"
    },
    {
     "name": "stdout",
     "output_type": "stream",
     "text": [
      "Extracting data/MNIST/raw/train-labels-idx1-ubyte.gz to data/MNIST/raw\n",
      "\n",
      "Downloading http://yann.lecun.com/exdb/mnist/t10k-images-idx3-ubyte.gz\n",
      "Downloading http://yann.lecun.com/exdb/mnist/t10k-images-idx3-ubyte.gz to data/MNIST/raw/t10k-images-idx3-ubyte.gz\n"
     ]
    },
    {
     "data": {
      "application/vnd.jupyter.widget-view+json": {
       "model_id": "98a57ea904b34928b00e9179b9048282",
       "version_major": 2,
       "version_minor": 0
      },
      "text/plain": [
       "  0%|          | 0/1648877 [00:00<?, ?it/s]"
      ]
     },
     "metadata": {},
     "output_type": "display_data"
    },
    {
     "name": "stdout",
     "output_type": "stream",
     "text": [
      "Extracting data/MNIST/raw/t10k-images-idx3-ubyte.gz to data/MNIST/raw\n",
      "\n",
      "Downloading http://yann.lecun.com/exdb/mnist/t10k-labels-idx1-ubyte.gz\n",
      "Downloading http://yann.lecun.com/exdb/mnist/t10k-labels-idx1-ubyte.gz to data/MNIST/raw/t10k-labels-idx1-ubyte.gz\n"
     ]
    },
    {
     "data": {
      "application/vnd.jupyter.widget-view+json": {
       "model_id": "074e253f296e40abacdd08af65db086c",
       "version_major": 2,
       "version_minor": 0
      },
      "text/plain": [
       "  0%|          | 0/4542 [00:00<?, ?it/s]"
      ]
     },
     "metadata": {},
     "output_type": "display_data"
    },
    {
     "name": "stdout",
     "output_type": "stream",
     "text": [
      "Extracting data/MNIST/raw/t10k-labels-idx1-ubyte.gz to data/MNIST/raw\n",
      "\n"
     ]
    }
   ],
   "source": [
    "train_data = datasets.MNIST(\n",
    "    root = 'data',\n",
    "    train = True,                         \n",
    "    transform = ToTensor(), \n",
    "    download = True         \n",
    ")\n",
    "test_data = datasets.MNIST(\n",
    "    root = 'data', \n",
    "    train = False, \n",
    "    transform = ToTensor()\n",
    ")"
   ]
  },
  {
   "cell_type": "code",
   "execution_count": null,
   "metadata": {
    "colab": {
     "base_uri": "https://localhost:8080/"
    },
    "id": "PCFl9IisXmjs",
    "outputId": "e169c9b9-2645-4e79-9926-fa0f339c1871"
   },
   "outputs": [
    {
     "name": "stdout",
     "output_type": "stream",
     "text": [
      "Dataset MNIST\n",
      "    Number of datapoints: 60000\n",
      "    Root location: data\n",
      "    Split: Train\n",
      "    StandardTransform\n",
      "Transform: ToTensor() \n",
      "\n",
      "Dataset MNIST\n",
      "    Number of datapoints: 10000\n",
      "    Root location: data\n",
      "    Split: Test\n",
      "    StandardTransform\n",
      "Transform: ToTensor()\n"
     ]
    }
   ],
   "source": [
    "print(train_data, '\\n')\n",
    "print(test_data)"
   ]
  },
  {
   "cell_type": "code",
   "execution_count": null,
   "metadata": {
    "id": "ZyRnbRO3b8R3"
   },
   "outputs": [],
   "source": [
    "# Plotting one data point from MNIST\n",
    "prefix = direc_pics + 'dset_'\n",
    "plt.imshow(train_data.data[0], cmap='gray')\n",
    "plt.title('Number %i' % train_data.targets[0])\n",
    "plt.savefig(prefix + '1point.png', bbox_inches='tight')\n",
    "plt.show()"
   ]
  },
  {
   "cell_type": "code",
   "execution_count": null,
   "metadata": {
    "id": "wOc8R_8Pb8ZG"
   },
   "outputs": [],
   "source": [
    "# Plotting 25 random data points from the dataset to get an idea of the dataset\n",
    "prefix = direc_pics + 'dset_'\n",
    "figure = plt.figure(figsize=(8, 8))\n",
    "cols, rows = 5, 5\n",
    "for i in range(1, cols * rows + 1):\n",
    "    sample_idx = torch.randint(len(train_data), size=(1,)).item()\n",
    "    img, label = train_data[sample_idx]\n",
    "    figure.add_subplot(rows, cols, i)\n",
    "    plt.title('Number {}'.format(label), fontsize=9)\n",
    "    plt.axis(\"off\")\n",
    "    plt.imshow(img.squeeze(), cmap=\"gray\")\n",
    "plt.savefig(prefix + '25point.png',bbox_inches='tight')\n",
    "plt.show()"
   ]
  },
  {
   "cell_type": "code",
   "execution_count": null,
   "metadata": {
    "colab": {
     "base_uri": "https://localhost:8080/"
    },
    "id": "6YxHvy1BkljP",
    "outputId": "c57d8c24-32ea-4c3b-bb90-bbd7360f4ab4"
   },
   "outputs": [
    {
     "name": "stdout",
     "output_type": "stream",
     "text": [
      "torch.Size([60000, 784])\n",
      "torch.Size([60000])\n",
      "torch.Size([10000, 784])\n",
      "torch.Size([10000])\n",
      "tensor(-0.5473)\n",
      "tensor(0.9999)\n"
     ]
    }
   ],
   "source": [
    "# Initializing pytorch dataset from the numpy datasets we have so far\n",
    "data_torch = {\n",
    "    'train': {\n",
    "        'X': torch.from_numpy(data['train']['X']),\n",
    "        'Y': torch.from_numpy(data['train']['Y'])\n",
    "    },\n",
    "    'test': {\n",
    "        'X': torch.from_numpy(data['test']['X']),\n",
    "        'Y': torch.from_numpy(data['test']['Y'])\n",
    "    }\n",
    "}\n",
    "\n",
    "data_torch_zero = {\n",
    "    'train': {\n",
    "        'X': torch.from_numpy(data_zero['train']['X']),\n",
    "        'Y': torch.from_numpy(data_zero['train']['Y'])\n",
    "    },\n",
    "    'test': {\n",
    "        'X': torch.from_numpy(data_zero['test']['X']),\n",
    "        'Y': torch.from_numpy(data_zero['test']['Y'])\n",
    "    }\n",
    "}\n",
    "\n",
    "train_data = torch.utils.data.TensorDataset(data_torch['train']['X'], data_torch['train']['Y'])\n",
    "test_data = torch.utils.data.TensorDataset(data_torch['test']['X'], data_torch['test']['Y'])\n",
    "train_data_zero = torch.utils.data.TensorDataset(data_torch_zero['train']['X'], data_torch_zero['train']['Y'])\n",
    "test_data_zero = torch.utils.data.TensorDataset(data_torch_zero['test']['X'], data_torch_zero['test']['Y'])\n",
    "\n",
    "print(train_data_zero[:][0].shape)\n",
    "print(train_data_zero[:][1].shape)\n",
    "print(test_data_zero[:][0].shape)\n",
    "print(test_data_zero[:][1].shape)\n",
    "print(torch.min(train_data_zero[:][0]))\n",
    "print(torch.max(train_data_zero[:][0]))\n"
   ]
  },
  {
   "cell_type": "code",
   "execution_count": null,
   "metadata": {
    "colab": {
     "base_uri": "https://localhost:8080/",
     "height": 479
    },
    "id": "Whm33NV5bU4Z",
    "outputId": "bc31a60c-c7a8-4a71-8957-b35eb16e7087"
   },
   "outputs": [
    {
     "data": {
      "image/png": "[encoded data removed]",
      "text/plain": [
       "<Figure size 576x576 with 25 Axes>"
      ]
     },
     "metadata": {
      "needs_background": "light"
     },
     "output_type": "display_data"
    }
   ],
   "source": [
    "prefix = direc_pics + 'dset_torch_'\n",
    "figure = plt.figure(figsize=(8, 8))\n",
    "cols, rows = 5, 5\n",
    "for i in range(1, cols * rows + 1):\n",
    "    sample_idx = torch.randint(len(train_data), size=(1,)).item()\n",
    "    img, label = train_data[sample_idx]\n",
    "    figure.add_subplot(rows, cols, i)\n",
    "    plt.title('Number {}'.format(label), fontsize=9)\n",
    "    plt.axis(\"off\")\n",
    "    plt.imshow(torch.reshape(img, (28,28)), cmap=\"gray\")\n",
    "plt.savefig(prefix + '25point.png',bbox_inches='tight')\n",
    "plt.show()"
   ]
  },
  {
   "cell_type": "markdown",
   "metadata": {
    "id": "QfaINeoQ99Ga"
   },
   "source": [
    "# Comparing PCA & AutoEncoders"
   ]
  },
  {
   "cell_type": "markdown",
   "metadata": {
    "id": "pGGYhq29-S7z"
   },
   "source": [
    "## PCA"
   ]
  },
  {
   "cell_type": "code",
   "execution_count": null,
   "metadata": {
    "id": "UMZf-2h3Yw5n"
   },
   "outputs": [],
   "source": [
    "def analysePCA(data, num_eigs):\n",
    "    '''\n",
    "    Function to perform PCA on given data and calculate reconstruction error using 'num_eigs' components\n",
    "    Arguments:\n",
    "    data            Dictionary containing the zero mean train and test data\n",
    "    num_eigs        Number of comoponents used to calculate the reconstruction error\n",
    "    Return:\n",
    "    Dictionary containing the reconstruction error on the train and test data\n",
    "    '''\n",
    "\n",
    "    # Forming the covariance matrix for the data set and getting the required eigenvalues and vectors\n",
    "    covar_train = np.cov(data['train']['X'], rowvar=False)\n",
    "    evals, evecs = np.linalg.eigh(covar_train)\n",
    "    evals = evals[-num_eigs:]\n",
    "    evecs = evecs[:, -num_eigs:]\n",
    "\n",
    "    # Generating the new PCA feature vectors\n",
    "    data_PCA = {\n",
    "        'train': {\n",
    "            'X': data['train']['X']@evecs,\n",
    "            'Y': data['train']['Y']\n",
    "        },\n",
    "        'test': {\n",
    "            'X': data['test']['X']@evecs,\n",
    "            'Y': data['test']['Y']\n",
    "        }\n",
    "    }\n",
    "    # Reconstructing data\n",
    "    data_recon = {\n",
    "        'train': {\n",
    "            'X': data_PCA['train']['X']@evecs.T,\n",
    "            'Y': data_PCA['train']['Y']\n",
    "        },\n",
    "        'test': {\n",
    "            'X': data_PCA['test']['X']@evecs.T,\n",
    "            'Y': data_PCA['test']['Y']\n",
    "        }\n",
    "    }\n",
    "\n",
    "    # Calculating reconstruction error\n",
    "    train_error = np.linalg.norm(data_recon['train']['X']-data['train']['X'], ord='fro')/data['train']['X'].shape[0]\n",
    "    test_error = np.linalg.norm(data_recon['test']['X']-data['test']['X'], ord='fro')/data['test']['X'].shape[0]\n",
    "\n",
    "    return {\n",
    "        'train': train_error,\n",
    "        'test': test_error\n",
    "    }"
   ]
  },
  {
   "cell_type": "code",
   "execution_count": null,
   "metadata": {
    "colab": {
     "base_uri": "https://localhost:8080/"
    },
    "id": "y7I5nEge-E3t",
    "outputId": "3e73bc9b-96f6-459a-d503-46e1d186ca88"
   },
   "outputs": [
    {
     "name": "stdout",
     "output_type": "stream",
     "text": [
      "PCA reconstruction error on Train Data: 0.015529979379214376\n",
      "PCA reconstruction error on Test Data: 0.03758851702116238\n"
     ]
    }
   ],
   "source": [
    "# Number of eigen values we want to use for performing the PCA\n",
    "num_eigs = 30\n",
    "\n",
    "error = analysePCA(data, num_eigs)\n",
    "print('PCA reconstruction error on Train Data: {}'.format(error['train']))\n",
    "print('PCA reconstruction error on Test Data: {}'.format(error['test']))"
   ]
  },
  {
   "cell_type": "markdown",
   "metadata": {
    "id": "BDBXIcMNYiWQ"
   },
   "source": [
    "## Linear AE with Squared Error"
   ]
  },
  {
   "cell_type": "code",
   "execution_count": null,
   "metadata": {
    "id": "00h3QbwuYqaD"
   },
   "outputs": [],
   "source": [
    "# Class defining the AE model\n",
    "class AE(nn.Module):\n",
    "    def __init__(self):\n",
    "        super(AE, self).__init__()\n",
    "        self.encoder = nn.Sequential(\n",
    "            nn.Linear(784, 512), \n",
    "            nn.ReLU(),\n",
    "            nn.Linear(512, 256),\n",
    "            nn.ReLU(),\n",
    "            nn.Linear(256, 128), \n",
    "            nn.ReLU(),\n",
    "            nn.Linear(128, 30), \n",
    "            nn.ReLU()            \n",
    "        )\n",
    "        self.decoder = nn.Sequential(\n",
    "            nn.Linear(30, 128), \n",
    "            nn.ReLU(),\n",
    "            nn.Linear(128, 256), \n",
    "            nn.ReLU(),\n",
    "            nn.Linear(256, 784), \n",
    "            # nn.ReLU()\n",
    "        )\n",
    "        \n",
    "    def forward(self, X):\n",
    "        h = self.encoder(X)\n",
    "        Xhat = self.decoder(h)\n",
    "\n",
    "        return {\n",
    "            'h': h,\n",
    "            'in': X,\n",
    "            'out': Xhat,\n",
    "            'err': (torch.square(torch.norm(X-Xhat, p='fro'))/10000).item()\n",
    "        }\n"
   ]
  },
  {
   "cell_type": "code",
   "execution_count": null,
   "metadata": {
    "colab": {
     "base_uri": "https://localhost:8080/"
    },
    "id": "r1Np4_EGhhdp",
    "outputId": "a12a7000-26b6-485c-9d6d-5a82fe7822ad"
   },
   "outputs": [
    {
     "name": "stdout",
     "output_type": "stream",
     "text": [
      "AE(\n",
      "  (encoder): Sequential(\n",
      "    (0): Linear(in_features=784, out_features=512, bias=True)\n",
      "    (1): ReLU()\n",
      "    (2): Linear(in_features=512, out_features=256, bias=True)\n",
      "    (3): ReLU()\n",
      "    (4): Linear(in_features=256, out_features=128, bias=True)\n",
      "    (5): ReLU()\n",
      "    (6): Linear(in_features=128, out_features=30, bias=True)\n",
      "    (7): ReLU()\n",
      "  )\n",
      "  (decoder): Sequential(\n",
      "    (0): Linear(in_features=30, out_features=128, bias=True)\n",
      "    (1): ReLU()\n",
      "    (2): Linear(in_features=128, out_features=256, bias=True)\n",
      "    (3): ReLU()\n",
      "    (4): Linear(in_features=256, out_features=784, bias=True)\n",
      "  )\n",
      ")\n"
     ]
    }
   ],
   "source": [
    "model = AE()\n",
    "print(model)"
   ]
  },
  {
   "cell_type": "code",
   "execution_count": null,
   "metadata": {
    "id": "CXAHltctb8gB"
   },
   "outputs": [],
   "source": [
    "# Train has 600 batches of size 100. Test is just 1 batch of 10K as we only use it for testing.\n",
    "loaders = {\n",
    "    'train' : torch.utils.data.DataLoader(train_data_zero, \n",
    "                                          batch_size=100, \n",
    "                                          shuffle=True, \n",
    "                                          num_workers=1),\n",
    "    \n",
    "    'test'  : torch.utils.data.DataLoader(test_data_zero, \n",
    "                                          batch_size=10000, \n",
    "                                          shuffle=True, \n",
    "                                          num_workers=1),\n",
    "}"
   ]
  },
  {
   "cell_type": "code",
   "execution_count": null,
   "metadata": {
    "colab": {
     "base_uri": "https://localhost:8080/"
    },
    "id": "uAYPpYiCt5hk",
    "outputId": "a9009bb1-a43c-4d25-dc0f-1ab9b0d575a8"
   },
   "outputs": [
    {
     "name": "stdout",
     "output_type": "stream",
     "text": [
      "600\n",
      "1\n",
      "torch.Size([100, 784])\n",
      "torch.Size([100])\n",
      "torch.Size([100, 784])\n",
      "0.5792297720909119\n",
      "0.579252978515625\n"
     ]
    }
   ],
   "source": [
    "print(len(loaders['train']))\n",
    "print(len(loaders['test']))\n",
    "\n",
    "for X, y in loaders['train']:\n",
    "    print(X.shape)\n",
    "    print(y.shape)\n",
    "    temp = model(X)\n",
    "    print(temp['out'].shape)\n",
    "    print(temp['err'])\n",
    "    loss = nn.MSELoss(reduction='sum')\n",
    "    ll = loss(temp['out'], X).item()\n",
    "    print(ll/10000)\n",
    "    break"
   ]
  },
  {
   "cell_type": "code",
   "execution_count": null,
   "metadata": {
    "id": "RAfujW8V_-1W"
   },
   "outputs": [],
   "source": [
    "def train_loop(loaders, model, loss_fn, optimizer, interval=40):\n",
    "    '''\n",
    "    Function to train the model and log required information\n",
    "    Arguments:\n",
    "    loaders                 dict containing DataLoader objects for the data\n",
    "    model                   The neural network we want to train\n",
    "    loss_fn                 The loss function we are trying to minimize\n",
    "    optimizer               Optimizer that we will use\n",
    "    interval                Interval between logging of loss & calculating test metrics [default: 40]\n",
    "    Returns:    Dict containing lists of training losses and test losses.\n",
    "    '''\n",
    "    dataloader = loaders['train']\n",
    "    size = len(dataloader.dataset)\n",
    "    losses = []\n",
    "    losses_test = []\n",
    "\n",
    "    for batch, (X, y) in enumerate(dataloader):\n",
    "        # Compute prediction and loss\n",
    "        temp = model(X)\n",
    "        loss = loss_fn(X, temp['out'])/X.shape[0]\n",
    "        losses.append(loss.item())\n",
    "\n",
    "        # Backpropagation\n",
    "        optimizer.zero_grad()\n",
    "        loss.backward()\n",
    "        optimizer.step()\n",
    "\n",
    "        if batch % interval == 0:\n",
    "            loss, current = loss.item(), batch * len(X)\n",
    "            print(f\"Loss: {loss:>7f}  [{current:>5d}/{size:>5d}]\")\n",
    "            temp1 = test_loop(loaders, model, loss_fn)\n",
    "            losses_test.append(temp1['loss'])\n",
    "        \n",
    "    return {\n",
    "        'losses': losses,\n",
    "        'losses_test': losses_test\n",
    "    }\n",
    "\n",
    "\n",
    "def test_loop(loaders, model, loss_fn):\n",
    "    '''\n",
    "    Function to calculate loss and accuracy of the model on the test set.\n",
    "    Arguments:\n",
    "    loaders                 dict containing DataLoader objects for the data\n",
    "    model                   The neural network we want to test\n",
    "    loss_fn                 The loss function we are trying to minimize in training\n",
    "    Returns:    Dict containing loss and accuracy of the model on the test dataset\n",
    "    '''\n",
    "    dataloader = loaders['test']\n",
    "    size = len(dataloader.dataset)\n",
    "    test_loss = 0\n",
    "\n",
    "    with torch.no_grad():\n",
    "        for X, y in dataloader:\n",
    "            temp = model(X)\n",
    "            test_loss += loss_fn(temp['out'], X).item()\n",
    "\n",
    "    test_loss /= size\n",
    "    print(f\"Test Metrics: Avg loss = {test_loss:>8f} \\n\")\n",
    "\n",
    "    return {\n",
    "        'loss': test_loss\n",
    "    }"
   ]
  },
  {
   "cell_type": "code",
   "execution_count": null,
   "metadata": {
    "colab": {
     "base_uri": "https://localhost:8080/"
    },
    "id": "2zJzBII2_-o6",
    "outputId": "1cf2a9a1-ea2d-48df-9768-7c04227738aa"
   },
   "outputs": [
    {
     "name": "stdout",
     "output_type": "stream",
     "text": [
      "Loss: MSELoss()\n",
      "\n",
      "Optimizer: Adam (\n",
      "Parameter Group 0\n",
      "    amsgrad: False\n",
      "    betas: (0.9, 0.999)\n",
      "    eps: 1e-08\n",
      "    lr: 0.001\n",
      "    weight_decay: 0\n",
      ")\n"
     ]
    }
   ],
   "source": [
    "# MSE Loss\n",
    "loss_fn = nn.MSELoss(reduction='sum')   \n",
    "print('Loss:', loss_fn)\n",
    "\n",
    "# Adam optimizer\n",
    "optimizer = optim.Adam(model.parameters())\n",
    "print('\\nOptimizer:', optimizer)"
   ]
  },
  {
   "cell_type": "code",
   "execution_count": null,
   "metadata": {
    "colab": {
     "base_uri": "https://localhost:8080/"
    },
    "id": "t29XbJucVSdt",
    "outputId": "b6c93066-304c-4257-8639-3b070b32dfe1"
   },
   "outputs": [
    {
     "name": "stdout",
     "output_type": "stream",
     "text": [
      "tensor(14., dtype=torch.float64)\n"
     ]
    }
   ],
   "source": [
    "t1 = torch.from_numpy(np.array([[0.,0.], [0.,0.]]))\n",
    "t2 = torch.from_numpy(np.array([[1.,0.], [2.,3.]]))\n",
    "print(loss_fn(t1, t2))"
   ]
  },
  {
   "cell_type": "code",
   "execution_count": null,
   "metadata": {
    "id": "xaOjJeT0THcP"
   },
   "outputs": [],
   "source": [
    "# These many epochs seem to be enough for saturation.\n",
    "num_epochs = 5"
   ]
  },
  {
   "cell_type": "code",
   "execution_count": null,
   "metadata": {
    "colab": {
     "base_uri": "https://localhost:8080/"
    },
    "id": "XRgF_54u_-4B",
    "outputId": "a2bb869f-c47d-4148-d98d-57ec4b01089c"
   },
   "outputs": [
    {
     "name": "stdout",
     "output_type": "stream",
     "text": [
      "Epoch 1\n",
      "-------------------------------\n",
      "Loss: 56.893898  [    0/60000]\n",
      "Test Metrics: Avg loss = 53.950806 \n",
      "\n",
      "Loss: 29.180759  [ 7500/60000]\n",
      "Test Metrics: Avg loss = 28.401231 \n",
      "\n",
      "Loss: 22.239265  [15000/60000]\n",
      "Test Metrics: Avg loss = 22.447014 \n",
      "\n",
      "Loss: 20.495283  [22500/60000]\n",
      "Test Metrics: Avg loss = 19.886477 \n",
      "\n",
      "Loss: 17.694056  [30000/60000]\n",
      "Test Metrics: Avg loss = 18.006328 \n",
      "\n",
      "Loss: 17.665464  [37500/60000]\n",
      "Test Metrics: Avg loss = 16.699725 \n",
      "\n",
      "Loss: 15.585409  [45000/60000]\n",
      "Test Metrics: Avg loss = 15.705559 \n",
      "\n",
      "Loss: 14.879520  [52500/60000]\n",
      "Test Metrics: Avg loss = 14.894436 \n",
      "\n",
      "Epoch 2\n",
      "-------------------------------\n",
      "Loss: 13.960139  [    0/60000]\n",
      "Test Metrics: Avg loss = 14.275908 \n",
      "\n",
      "Loss: 13.980633  [ 7500/60000]\n",
      "Test Metrics: Avg loss = 13.907831 \n",
      "\n",
      "Loss: 13.641846  [15000/60000]\n",
      "Test Metrics: Avg loss = 13.294241 \n",
      "\n",
      "Loss: 13.760939  [22500/60000]\n",
      "Test Metrics: Avg loss = 13.023430 \n",
      "\n",
      "Loss: 12.708984  [30000/60000]\n",
      "Test Metrics: Avg loss = 12.568509 \n",
      "\n",
      "Loss: 13.062870  [37500/60000]\n",
      "Test Metrics: Avg loss = 12.451972 \n",
      "\n",
      "Loss: 12.157559  [45000/60000]\n",
      "Test Metrics: Avg loss = 12.087540 \n",
      "\n",
      "Loss: 11.790732  [52500/60000]\n",
      "Test Metrics: Avg loss = 11.809405 \n",
      "\n",
      "Epoch 3\n",
      "-------------------------------\n",
      "Loss: 11.753463  [    0/60000]\n",
      "Test Metrics: Avg loss = 11.717180 \n",
      "\n",
      "Loss: 11.475670  [ 7500/60000]\n",
      "Test Metrics: Avg loss = 11.502231 \n",
      "\n",
      "Loss: 11.334426  [15000/60000]\n",
      "Test Metrics: Avg loss = 11.424625 \n",
      "\n",
      "Loss: 11.621078  [22500/60000]\n",
      "Test Metrics: Avg loss = 11.345359 \n",
      "\n",
      "Loss: 11.348266  [30000/60000]\n",
      "Test Metrics: Avg loss = 11.163062 \n",
      "\n",
      "Loss: 11.274031  [37500/60000]\n",
      "Test Metrics: Avg loss = 10.984020 \n",
      "\n",
      "Loss: 11.372392  [45000/60000]\n",
      "Test Metrics: Avg loss = 10.864400 \n",
      "\n",
      "Loss: 10.650439  [52500/60000]\n",
      "Test Metrics: Avg loss = 10.777961 \n",
      "\n",
      "Epoch 4\n",
      "-------------------------------\n",
      "Loss: 11.339699  [    0/60000]\n",
      "Test Metrics: Avg loss = 10.670177 \n",
      "\n",
      "Loss: 10.357368  [ 7500/60000]\n",
      "Test Metrics: Avg loss = 10.615523 \n",
      "\n",
      "Loss: 10.456779  [15000/60000]\n",
      "Test Metrics: Avg loss = 10.597177 \n",
      "\n",
      "Loss: 10.305067  [22500/60000]\n",
      "Test Metrics: Avg loss = 10.423009 \n",
      "\n",
      "Loss: 11.237648  [30000/60000]\n",
      "Test Metrics: Avg loss = 10.340958 \n",
      "\n",
      "Loss: 10.841885  [37500/60000]\n",
      "Test Metrics: Avg loss = 10.240150 \n",
      "\n",
      "Loss: 10.469883  [45000/60000]\n",
      "Test Metrics: Avg loss = 10.247505 \n",
      "\n",
      "Loss: 10.027265  [52500/60000]\n",
      "Test Metrics: Avg loss = 10.150109 \n",
      "\n",
      "Epoch 5\n",
      "-------------------------------\n",
      "Loss: 10.160755  [    0/60000]\n",
      "Test Metrics: Avg loss = 10.134511 \n",
      "\n",
      "Loss: 10.794729  [ 7500/60000]\n",
      "Test Metrics: Avg loss = 10.120437 \n",
      "\n",
      "Loss: 10.076126  [15000/60000]\n",
      "Test Metrics: Avg loss = 10.009915 \n",
      "\n",
      "Loss: 10.150660  [22500/60000]\n",
      "Test Metrics: Avg loss = 9.979294 \n",
      "\n",
      "Loss: 9.476641  [30000/60000]\n",
      "Test Metrics: Avg loss = 9.808709 \n",
      "\n",
      "Loss: 10.302970  [37500/60000]\n",
      "Test Metrics: Avg loss = 9.846867 \n",
      "\n",
      "Loss: 9.304952  [45000/60000]\n",
      "Test Metrics: Avg loss = 9.810902 \n",
      "\n",
      "Loss: 9.656022  [52500/60000]\n",
      "Test Metrics: Avg loss = 9.784984 \n",
      "\n",
      "Test Metrics: Avg loss = 9.793937 \n",
      "\n",
      "Time taken for the training: 91.11019468307495 seconds\n"
     ]
    }
   ],
   "source": [
    "# Warming up the compute for optimal time measurement\n",
    "start = time.time()\n",
    "temp1 = np.random.rand(3000, 2000)\n",
    "temp2 = np.random.rand(2000, 1000)\n",
    "temp1 = temp1@temp2\n",
    "end = time.time()\n",
    "\n",
    "# Measuring time taken for the training process\n",
    "losses = []\n",
    "losses_test = []\n",
    "\n",
    "interval = 75\n",
    "start = time.time()\n",
    "for i in range(num_epochs):\n",
    "    print(f\"Epoch {i+1}\\n-------------------------------\")\n",
    "    \n",
    "    # Training the network for this epoch\n",
    "    temp = train_loop(loaders, model, loss_fn, optimizer, interval)\n",
    "    losses += temp['losses']\n",
    "    losses_test += temp['losses_test']\n",
    "\n",
    "temp = test_loop(loaders, model, loss_fn)\n",
    "losses_test.append(temp['loss'])\n",
    "end = time.time()\n",
    "print('Time taken for the training: {0:.5f} seconds'.format(end-start))\n"
   ]
  },
  {
   "cell_type": "code",
   "execution_count": null,
   "metadata": {
    "id": "VSM_d8NnrWmx"
   },
   "outputs": [],
   "source": [
    "# Saving the trained network\n",
    "torch.save(model, direc_main+'baseline_model.pth')"
   ]
  },
  {
   "cell_type": "code",
   "execution_count": null,
   "metadata": {
    "colab": {
     "base_uri": "https://localhost:8080/",
     "height": 316
    },
    "id": "fqZg6NIDKpyE",
    "outputId": "8e5cfa61-fbba-4a9b-9d2d-4785c73a7f00"
   },
   "outputs": [
    {
     "data": {
      "image/png": "[encoded data removed]",
      "text/plain": [
       "<Figure size 216x367.2 with 6 Axes>"
      ]
     },
     "metadata": {
      "needs_background": "light"
     },
     "output_type": "display_data"
    }
   ],
   "source": [
    "prefix = direc_pics + 'baseline_test_'\n",
    "cols, rows = 2, 3\n",
    "for X, y in loaders['test']:\n",
    "    Xhat = model(X)['out']\n",
    "    figure = plt.figure(figsize=(3,1.7*rows))\n",
    "    for i in range(1, rows + 1):\n",
    "        figure.add_subplot(rows, cols, 2*i-1)\n",
    "        plt.title('Input', fontsize=9)\n",
    "        plt.axis(\"off\")\n",
    "        plt.imshow(torch.reshape(X[i], (28,28)).detach().numpy())\n",
    "        figure.add_subplot(rows, cols, 2*i)\n",
    "        plt.title('Output', fontsize=9)\n",
    "        plt.axis(\"off\")\n",
    "        plt.imshow(torch.reshape(Xhat[i], (28,28)).detach().numpy())\n",
    "    plt.savefig(prefix + '{}point.png'.format(rows),bbox_inches='tight')\n",
    "    plt.show()\n",
    "    break\n"
   ]
  },
  {
   "cell_type": "markdown",
   "metadata": {
    "id": "9Xquplt2CAb0"
   },
   "source": [
    "# Experimenting with hidden units of varying sizes"
   ]
  },
  {
   "cell_type": "markdown",
   "metadata": {
    "id": "iVeQ3pqjCCLL"
   },
   "source": [
    "## Quality of Reconstruction"
   ]
  },
  {
   "cell_type": "code",
   "execution_count": null,
   "metadata": {
    "id": "NTJ-64B6CWFg"
   },
   "outputs": [],
   "source": [
    "# Class defining the AE model\n",
    "class AEshort(nn.Module):\n",
    "    def __init__(self, N):\n",
    "        super(AEshort, self).__init__()\n",
    "        self.encoder = nn.Sequential(\n",
    "            nn.Linear(784, N), \n",
    "            nn.ReLU()\n",
    "        )\n",
    "        self.decoder = nn.Sequential(\n",
    "            nn.Linear(N, 784)\n",
    "        )\n",
    "\n",
    "    def forward(self, X):\n",
    "        h = self.encoder(X)\n",
    "        Xhat = self.decoder(h)\n",
    "        return {\n",
    "            'in': X,\n",
    "            'out': Xhat,\n",
    "            'h': h\n",
    "        }\n"
   ]
  },
  {
   "cell_type": "code",
   "execution_count": null,
   "metadata": {
    "id": "rO0zKzhQCWHs"
   },
   "outputs": [],
   "source": [
    "size_list = [64, 128, 256]\n",
    "model_dict = {}\n",
    "for size in size_list:\n",
    "    model_dict[size] = AEshort(size)"
   ]
  },
  {
   "cell_type": "code",
   "execution_count": null,
   "metadata": {
    "id": "WSSSERvIjidH"
   },
   "outputs": [],
   "source": [
    "def train_loop_lite(loaders, model, loss_fn, optimizer, interval=40):\n",
    "    '''\n",
    "    Function to train the model and log required information. This is just a lighter version without all the loss logging.\n",
    "    Arguments:\n",
    "    loaders                 dict containing DataLoader objects for the data\n",
    "    model                   The neural network we want to train\n",
    "    loss_fn                 The loss function we are trying to minimize\n",
    "    optimizer               Optimizer that we will use\n",
    "    interval                Interval between logging of loss & calculating test metrics [default: 40]\n",
    "    Returns:    None\n",
    "    '''\n",
    "    dataloader = loaders['train']\n",
    "    size = len(dataloader.dataset)\n",
    "\n",
    "    for batch, (X, y) in enumerate(dataloader):\n",
    "        # Compute prediction and loss\n",
    "        temp = model(X)\n",
    "        loss = loss_fn(X, temp['out'])/X.shape[0]\n",
    "\n",
    "        # Backpropagation\n",
    "        optimizer.zero_grad()\n",
    "        loss.backward()\n",
    "        optimizer.step()\n",
    "\n",
    "        if batch % interval == 0:\n",
    "            loss, current = loss.item(), batch * len(X)\n",
    "            print(f\"Loss: {loss:>7f}  [{current:>5d}/{size:>5d}]\")\n",
    "            test_loop_lite(loaders, model, loss_fn)\n",
    "\n",
    "\n",
    "def test_loop_lite(loaders, model, loss_fn):\n",
    "    '''\n",
    "    Function to calculate loss and accuracy of the model on the test set. This is just a lighter version without all the loss logging.\n",
    "    Arguments:\n",
    "    loaders                 dict containing DataLoader objects for the data\n",
    "    model                   The neural network we want to test\n",
    "    loss_fn                 The loss function we are trying to minimize in training\n",
    "    Returns:    None\n",
    "    '''\n",
    "    dataloader = loaders['test']\n",
    "    size = len(dataloader.dataset)\n",
    "    test_loss = 0\n",
    "\n",
    "    with torch.no_grad():\n",
    "        for X, y in dataloader:\n",
    "            temp = model(X)\n",
    "            test_loss += loss_fn(temp['out'], X).item()\n",
    "\n",
    "    test_loss /= size\n",
    "    print(f\"Test Metrics: Avg loss = {test_loss:>8f} \\n\")\n"
   ]
  },
  {
   "cell_type": "code",
   "execution_count": null,
   "metadata": {
    "colab": {
     "base_uri": "https://localhost:8080/"
    },
    "id": "TlLruKo4NqYv",
    "outputId": "ca1b23a4-9054-450d-d870-c62b8217f903"
   },
   "outputs": [
    {
     "name": "stdout",
     "output_type": "stream",
     "text": [
      "Loss: MSELoss()\n",
      "\n",
      "Optimizer: Adam (\n",
      "Parameter Group 0\n",
      "    amsgrad: False\n",
      "    betas: (0.9, 0.999)\n",
      "    eps: 1e-08\n",
      "    lr: 0.001\n",
      "    weight_decay: 0\n",
      ")\n"
     ]
    }
   ],
   "source": [
    "loss_fn = nn.MSELoss(reduction='sum')   \n",
    "print('Loss:', loss_fn)\n",
    "\n",
    "# Adam optimizer\n",
    "optimizer = optim.Adam(model.parameters())\n",
    "print('\\nOptimizer:', optimizer)"
   ]
  },
  {
   "cell_type": "code",
   "execution_count": null,
   "metadata": {
    "id": "eIuGXJVQh2lN"
   },
   "outputs": [],
   "source": [
    "num_epochs = 5"
   ]
  },
  {
   "cell_type": "code",
   "execution_count": null,
   "metadata": {
    "colab": {
     "base_uri": "https://localhost:8080/"
    },
    "id": "fIKCg0PCONeD",
    "outputId": "6df1c416-1887-4446-dfdb-bc2085e27560"
   },
   "outputs": [
    {
     "name": "stdout",
     "output_type": "stream",
     "text": [
      "\n",
      "Training the AE with size 64 hidden layer:\n",
      "Training for 5 epochs,\n",
      "Epoch 1\n",
      "-------------------------------\n",
      "Loss: 58.588280  [    0/60000]\n",
      "Test Metrics: Avg loss = 60.210437 \n",
      "\n",
      "Loss: 58.468975  [ 7500/60000]\n",
      "Test Metrics: Avg loss = 60.210437 \n",
      "\n",
      "Loss: 60.373589  [15000/60000]\n",
      "Test Metrics: Avg loss = 60.210437 \n",
      "\n",
      "Loss: 58.928146  [22500/60000]\n",
      "Test Metrics: Avg loss = 60.210437 \n",
      "\n",
      "Loss: 61.633720  [30000/60000]\n",
      "Test Metrics: Avg loss = 60.210437 \n",
      "\n",
      "Loss: 57.875767  [37500/60000]\n",
      "Test Metrics: Avg loss = 60.210431 \n",
      "\n",
      "Loss: 57.564278  [45000/60000]\n",
      "Test Metrics: Avg loss = 60.210437 \n",
      "\n",
      "Loss: 61.179913  [52500/60000]\n",
      "Test Metrics: Avg loss = 60.210437 \n",
      "\n",
      "Epoch 2\n",
      "-------------------------------\n",
      "Loss: 58.734528  [    0/60000]\n",
      "Test Metrics: Avg loss = 60.210437 \n",
      "\n",
      "Loss: 60.726395  [ 7500/60000]\n",
      "Test Metrics: Avg loss = 60.210437 \n",
      "\n",
      "Loss: 60.442440  [15000/60000]\n",
      "Test Metrics: Avg loss = 60.210437 \n",
      "\n",
      "Loss: 61.743176  [22500/60000]\n",
      "Test Metrics: Avg loss = 60.210437 \n",
      "\n",
      "Loss: 59.449631  [30000/60000]\n",
      "Test Metrics: Avg loss = 60.210437 \n",
      "\n",
      "Loss: 60.361763  [37500/60000]\n",
      "Test Metrics: Avg loss = 60.210437 \n",
      "\n",
      "Loss: 57.766743  [45000/60000]\n",
      "Test Metrics: Avg loss = 60.210437 \n",
      "\n",
      "Loss: 61.875595  [52500/60000]\n",
      "Test Metrics: Avg loss = 60.210437 \n",
      "\n",
      "Epoch 3\n",
      "-------------------------------\n",
      "Loss: 61.535988  [    0/60000]\n",
      "Test Metrics: Avg loss = 60.210437 \n",
      "\n",
      "Loss: 60.144878  [ 7500/60000]\n",
      "Test Metrics: Avg loss = 60.210437 \n",
      "\n",
      "Loss: 61.373116  [15000/60000]\n",
      "Test Metrics: Avg loss = 60.210437 \n",
      "\n",
      "Loss: 60.072227  [22500/60000]\n",
      "Test Metrics: Avg loss = 60.210431 \n",
      "\n",
      "Loss: 63.278149  [30000/60000]\n",
      "Test Metrics: Avg loss = 60.210437 \n",
      "\n",
      "Loss: 60.287354  [37500/60000]\n",
      "Test Metrics: Avg loss = 60.210437 \n",
      "\n",
      "Loss: 63.630875  [45000/60000]\n",
      "Test Metrics: Avg loss = 60.210437 \n",
      "\n",
      "Loss: 62.975063  [52500/60000]\n",
      "Test Metrics: Avg loss = 60.210437 \n",
      "\n",
      "Epoch 4\n",
      "-------------------------------\n",
      "Loss: 61.012470  [    0/60000]\n",
      "Test Metrics: Avg loss = 60.210437 \n",
      "\n",
      "Loss: 60.469406  [ 7500/60000]\n",
      "Test Metrics: Avg loss = 60.210437 \n",
      "\n",
      "Loss: 62.254658  [15000/60000]\n",
      "Test Metrics: Avg loss = 60.210437 \n",
      "\n",
      "Loss: 60.453037  [22500/60000]\n",
      "Test Metrics: Avg loss = 60.210437 \n",
      "\n",
      "Loss: 59.201962  [30000/60000]\n",
      "Test Metrics: Avg loss = 60.210431 \n",
      "\n",
      "Loss: 57.342640  [37500/60000]\n",
      "Test Metrics: Avg loss = 60.210437 \n",
      "\n",
      "Loss: 60.228348  [45000/60000]\n",
      "Test Metrics: Avg loss = 60.210431 \n",
      "\n",
      "Loss: 60.861275  [52500/60000]\n",
      "Test Metrics: Avg loss = 60.210437 \n",
      "\n",
      "Epoch 5\n",
      "-------------------------------\n",
      "Loss: 62.580585  [    0/60000]\n",
      "Test Metrics: Avg loss = 60.210437 \n",
      "\n",
      "Loss: 61.850868  [ 7500/60000]\n",
      "Test Metrics: Avg loss = 60.210437 \n",
      "\n",
      "Loss: 61.408146  [15000/60000]\n",
      "Test Metrics: Avg loss = 60.210437 \n",
      "\n",
      "Loss: 60.706112  [22500/60000]\n",
      "Test Metrics: Avg loss = 60.210437 \n",
      "\n",
      "Loss: 60.117802  [30000/60000]\n",
      "Test Metrics: Avg loss = 60.210437 \n",
      "\n",
      "Loss: 61.321777  [37500/60000]\n",
      "Test Metrics: Avg loss = 60.210437 \n",
      "\n",
      "Loss: 60.085629  [45000/60000]\n",
      "Test Metrics: Avg loss = 60.210431 \n",
      "\n",
      "Loss: 60.539818  [52500/60000]\n",
      "Test Metrics: Avg loss = 60.210437 \n",
      "\n",
      "Time taken for the training: 58.08188 seconds\n",
      "\n",
      "Training the AE with size 128 hidden layer:\n",
      "Training for 5 epochs,\n",
      "Epoch 1\n",
      "-------------------------------\n",
      "Loss: 58.087643  [    0/60000]\n",
      "Test Metrics: Avg loss = 58.049581 \n",
      "\n",
      "Loss: 55.436279  [ 7500/60000]\n",
      "Test Metrics: Avg loss = 58.049581 \n",
      "\n",
      "Loss: 55.795967  [15000/60000]\n",
      "Test Metrics: Avg loss = 58.049581 \n",
      "\n",
      "Loss: 58.506771  [22500/60000]\n",
      "Test Metrics: Avg loss = 58.049581 \n",
      "\n",
      "Loss: 55.157665  [30000/60000]\n",
      "Test Metrics: Avg loss = 58.049581 \n",
      "\n",
      "Loss: 58.156483  [37500/60000]\n",
      "Test Metrics: Avg loss = 58.049588 \n",
      "\n",
      "Loss: 58.223373  [45000/60000]\n",
      "Test Metrics: Avg loss = 58.049575 \n",
      "\n",
      "Loss: 59.365547  [52500/60000]\n",
      "Test Metrics: Avg loss = 58.049581 \n",
      "\n",
      "Epoch 2\n",
      "-------------------------------\n",
      "Loss: 56.967201  [    0/60000]\n",
      "Test Metrics: Avg loss = 58.049581 \n",
      "\n",
      "Loss: 55.367653  [ 7500/60000]\n",
      "Test Metrics: Avg loss = 58.049588 \n",
      "\n",
      "Loss: 57.059219  [15000/60000]\n",
      "Test Metrics: Avg loss = 58.049581 \n",
      "\n",
      "Loss: 56.996281  [22500/60000]\n",
      "Test Metrics: Avg loss = 58.049581 \n",
      "\n",
      "Loss: 56.499893  [30000/60000]\n",
      "Test Metrics: Avg loss = 58.049575 \n",
      "\n",
      "Loss: 57.539448  [37500/60000]\n",
      "Test Metrics: Avg loss = 58.049581 \n",
      "\n",
      "Loss: 58.018692  [45000/60000]\n",
      "Test Metrics: Avg loss = 58.049581 \n",
      "\n",
      "Loss: 58.313114  [52500/60000]\n",
      "Test Metrics: Avg loss = 58.049581 \n",
      "\n",
      "Epoch 3\n",
      "-------------------------------\n",
      "Loss: 55.905270  [    0/60000]\n",
      "Test Metrics: Avg loss = 58.049588 \n",
      "\n",
      "Loss: 58.404213  [ 7500/60000]\n",
      "Test Metrics: Avg loss = 58.049581 \n",
      "\n",
      "Loss: 57.148663  [15000/60000]\n",
      "Test Metrics: Avg loss = 58.049588 \n",
      "\n",
      "Loss: 54.974083  [22500/60000]\n",
      "Test Metrics: Avg loss = 58.049581 \n",
      "\n",
      "Loss: 57.665440  [30000/60000]\n",
      "Test Metrics: Avg loss = 58.049581 \n",
      "\n",
      "Loss: 57.837719  [37500/60000]\n",
      "Test Metrics: Avg loss = 58.049588 \n",
      "\n",
      "Loss: 61.632965  [45000/60000]\n",
      "Test Metrics: Avg loss = 58.049581 \n",
      "\n",
      "Loss: 58.119781  [52500/60000]\n",
      "Test Metrics: Avg loss = 58.049581 \n",
      "\n",
      "Epoch 4\n",
      "-------------------------------\n",
      "Loss: 58.763519  [    0/60000]\n",
      "Test Metrics: Avg loss = 58.049581 \n",
      "\n",
      "Loss: 56.360020  [ 7500/60000]\n",
      "Test Metrics: Avg loss = 58.049581 \n",
      "\n",
      "Loss: 57.846123  [15000/60000]\n",
      "Test Metrics: Avg loss = 58.049581 \n",
      "\n",
      "Loss: 60.499809  [22500/60000]\n",
      "Test Metrics: Avg loss = 58.049588 \n",
      "\n",
      "Loss: 58.049259  [30000/60000]\n",
      "Test Metrics: Avg loss = 58.049581 \n",
      "\n",
      "Loss: 59.188534  [37500/60000]\n",
      "Test Metrics: Avg loss = 58.049581 \n",
      "\n",
      "Loss: 55.590870  [45000/60000]\n",
      "Test Metrics: Avg loss = 58.049581 \n",
      "\n",
      "Loss: 55.709492  [52500/60000]\n",
      "Test Metrics: Avg loss = 58.049581 \n",
      "\n",
      "Epoch 5\n",
      "-------------------------------\n",
      "Loss: 58.711845  [    0/60000]\n",
      "Test Metrics: Avg loss = 58.049581 \n",
      "\n",
      "Loss: 57.121620  [ 7500/60000]\n",
      "Test Metrics: Avg loss = 58.049581 \n",
      "\n",
      "Loss: 57.450909  [15000/60000]\n",
      "Test Metrics: Avg loss = 58.049588 \n",
      "\n",
      "Loss: 56.286999  [22500/60000]\n",
      "Test Metrics: Avg loss = 58.049581 \n",
      "\n",
      "Loss: 58.509048  [30000/60000]\n",
      "Test Metrics: Avg loss = 58.049588 \n",
      "\n",
      "Loss: 58.239845  [37500/60000]\n",
      "Test Metrics: Avg loss = 58.049581 \n",
      "\n",
      "Loss: 58.857494  [45000/60000]\n",
      "Test Metrics: Avg loss = 58.049581 \n",
      "\n",
      "Loss: 57.177982  [52500/60000]\n",
      "Test Metrics: Avg loss = 58.049581 \n",
      "\n",
      "Time taken for the training: 63.77263 seconds\n",
      "\n",
      "Training the AE with size 256 hidden layer:\n",
      "Training for 5 epochs,\n",
      "Epoch 1\n",
      "-------------------------------\n",
      "Loss: 57.382782  [    0/60000]\n",
      "Test Metrics: Avg loss = 56.937319 \n",
      "\n",
      "Loss: 56.586044  [ 7500/60000]\n",
      "Test Metrics: Avg loss = 56.937312 \n",
      "\n",
      "Loss: 54.091480  [15000/60000]\n",
      "Test Metrics: Avg loss = 56.937312 \n",
      "\n",
      "Loss: 58.917309  [22500/60000]\n",
      "Test Metrics: Avg loss = 56.937312 \n",
      "\n",
      "Loss: 58.362705  [30000/60000]\n",
      "Test Metrics: Avg loss = 56.937312 \n",
      "\n",
      "Loss: 57.734371  [37500/60000]\n",
      "Test Metrics: Avg loss = 56.937312 \n",
      "\n",
      "Loss: 56.742378  [45000/60000]\n",
      "Test Metrics: Avg loss = 56.937312 \n",
      "\n",
      "Loss: 54.240379  [52500/60000]\n",
      "Test Metrics: Avg loss = 56.937312 \n",
      "\n",
      "Epoch 2\n",
      "-------------------------------\n",
      "Loss: 58.217464  [    0/60000]\n",
      "Test Metrics: Avg loss = 56.937312 \n",
      "\n",
      "Loss: 55.427391  [ 7500/60000]\n",
      "Test Metrics: Avg loss = 56.937312 \n",
      "\n",
      "Loss: 57.267559  [15000/60000]\n",
      "Test Metrics: Avg loss = 56.937312 \n",
      "\n",
      "Loss: 56.979286  [22500/60000]\n",
      "Test Metrics: Avg loss = 56.937312 \n",
      "\n",
      "Loss: 56.327866  [30000/60000]\n",
      "Test Metrics: Avg loss = 56.937312 \n",
      "\n",
      "Loss: 56.806576  [37500/60000]\n",
      "Test Metrics: Avg loss = 56.937319 \n",
      "\n",
      "Loss: 57.596058  [45000/60000]\n",
      "Test Metrics: Avg loss = 56.937312 \n",
      "\n",
      "Loss: 58.908768  [52500/60000]\n",
      "Test Metrics: Avg loss = 56.937312 \n",
      "\n",
      "Epoch 3\n",
      "-------------------------------\n",
      "Loss: 57.674427  [    0/60000]\n",
      "Test Metrics: Avg loss = 56.937312 \n",
      "\n",
      "Loss: 56.706421  [ 7500/60000]\n",
      "Test Metrics: Avg loss = 56.937312 \n",
      "\n",
      "Loss: 56.384121  [15000/60000]\n",
      "Test Metrics: Avg loss = 56.937312 \n",
      "\n",
      "Loss: 58.215996  [22500/60000]\n",
      "Test Metrics: Avg loss = 56.937312 \n",
      "\n",
      "Loss: 57.504864  [30000/60000]\n",
      "Test Metrics: Avg loss = 56.937312 \n",
      "\n",
      "Loss: 58.292130  [37500/60000]\n",
      "Test Metrics: Avg loss = 56.937312 \n",
      "\n",
      "Loss: 57.828957  [45000/60000]\n",
      "Test Metrics: Avg loss = 56.937312 \n",
      "\n",
      "Loss: 56.146538  [52500/60000]\n",
      "Test Metrics: Avg loss = 56.937312 \n",
      "\n",
      "Epoch 4\n",
      "-------------------------------\n",
      "Loss: 55.820763  [    0/60000]\n",
      "Test Metrics: Avg loss = 56.937312 \n",
      "\n",
      "Loss: 56.036346  [ 7500/60000]\n",
      "Test Metrics: Avg loss = 56.937312 \n",
      "\n",
      "Loss: 55.524693  [15000/60000]\n",
      "Test Metrics: Avg loss = 56.937312 \n",
      "\n",
      "Loss: 54.468334  [22500/60000]\n",
      "Test Metrics: Avg loss = 56.937312 \n",
      "\n",
      "Loss: 58.595253  [30000/60000]\n",
      "Test Metrics: Avg loss = 56.937312 \n",
      "\n",
      "Loss: 58.680477  [37500/60000]\n",
      "Test Metrics: Avg loss = 56.937319 \n",
      "\n",
      "Loss: 56.012226  [45000/60000]\n",
      "Test Metrics: Avg loss = 56.937312 \n",
      "\n",
      "Loss: 57.309078  [52500/60000]\n",
      "Test Metrics: Avg loss = 56.937306 \n",
      "\n",
      "Epoch 5\n",
      "-------------------------------\n",
      "Loss: 57.437733  [    0/60000]\n",
      "Test Metrics: Avg loss = 56.937312 \n",
      "\n",
      "Loss: 55.308144  [ 7500/60000]\n",
      "Test Metrics: Avg loss = 56.937312 \n",
      "\n",
      "Loss: 59.379105  [15000/60000]\n",
      "Test Metrics: Avg loss = 56.937319 \n",
      "\n",
      "Loss: 58.996807  [22500/60000]\n",
      "Test Metrics: Avg loss = 56.937312 \n",
      "\n",
      "Loss: 54.757851  [30000/60000]\n",
      "Test Metrics: Avg loss = 56.937312 \n",
      "\n",
      "Loss: 55.377640  [37500/60000]\n",
      "Test Metrics: Avg loss = 56.937312 \n",
      "\n",
      "Loss: 58.797852  [45000/60000]\n",
      "Test Metrics: Avg loss = 56.937312 \n",
      "\n",
      "Loss: 56.792267  [52500/60000]\n",
      "Test Metrics: Avg loss = 56.937312 \n",
      "\n",
      "Time taken for the training: 73.01319 seconds\n"
     ]
    }
   ],
   "source": [
    "# Warming up the compute for optimal time measurement\n",
    "start = time.time()\n",
    "temp1 = np.random.rand(3000, 2000)\n",
    "temp2 = np.random.rand(2000, 1000)\n",
    "temp1 = temp1@temp2\n",
    "end = time.time()\n",
    "\n",
    "# Measuring time taken for the training process\n",
    "interval = 75\n",
    "for key in model_dict.keys():\n",
    "    print('\\nTraining the AE with size {} hidden layer:'.format(key))\n",
    "    print('Training for {} epochs,'.format(num_epochs))\n",
    "    start = time.time()\n",
    "    for i in range(num_epochs):\n",
    "        print(f\"Epoch {i+1}\\n-------------------------------\")    \n",
    "        # Training the network for this epoch\n",
    "        train_loop_lite(loaders, model_dict[key], loss_fn, optimizer, interval)\n",
    "    end = time.time()\n",
    "    print('Time taken for the training: {0:.5f} seconds'.format(end-start))\n"
   ]
  },
  {
   "cell_type": "code",
   "execution_count": null,
   "metadata": {
    "id": "_Nw4C-dlOWD0"
   },
   "outputs": [],
   "source": [
    "# Saving the trained network\n",
    "for key in model_dict.keys():\n",
    "    torch.save(model_dict[key], direc_main+'model_{}.pth'.format(key))"
   ]
  },
  {
   "cell_type": "markdown",
   "metadata": {
    "id": "QlYajhpwCMFz"
   },
   "source": [
    "## Non-Digit or Random Noise Images"
   ]
  },
  {
   "cell_type": "code",
   "execution_count": null,
   "metadata": {
    "colab": {
     "base_uri": "https://localhost:8080/",
     "height": 321
    },
    "id": "9jRTAsQkCWnP",
    "outputId": "7e74907b-5a24-4f99-9aa3-c7c5e57f4861"
   },
   "outputs": [
    {
     "data": {
      "image/png": "[encoded data removed]",
      "text/plain": [
       "<Figure size 288x367.2 with 6 Axes>"
      ]
     },
     "metadata": {
      "needs_background": "light"
     },
     "output_type": "display_data"
    }
   ],
   "source": [
    "prefix = direc_pics + 'Q2a_'\n",
    "loss_dict = {}\n",
    "cols, rows = 2, len(model_dict.keys())\n",
    "for X, y in loaders['test']:\n",
    "    count = 1\n",
    "    figure = plt.figure(figsize=(4,1.7*rows))\n",
    "    for key in model_dict.keys():\n",
    "        modell = model_dict[key]\n",
    "        Xhat = modell(X)['out']\n",
    "        loss_dict[key] = loss_fn(X[0], Xhat[0])\n",
    "\n",
    "        figure.add_subplot(rows, cols, 2*count-1)\n",
    "        plt.title('In, Size:{0}, Err:{1:0.2f}'.format(key, loss_dict[key]), fontsize=9)\n",
    "        plt.axis(\"off\")\n",
    "        plt.imshow(torch.reshape(X[0], (28,28)).detach().numpy())\n",
    "        figure.add_subplot(rows, cols, 2*count)\n",
    "        plt.title('Out, Size:{0}, Err:{1:0.2f}'.format(key, loss_dict[key]), fontsize=9)\n",
    "        plt.axis(\"off\")\n",
    "        plt.imshow(torch.reshape(Xhat[0], (28,28)).detach().numpy())\n",
    "        count += 1\n",
    "    plt.savefig(prefix + 'img.png',bbox_inches='tight')\n",
    "    plt.show()\n",
    "    break"
   ]
  },
  {
   "cell_type": "code",
   "execution_count": null,
   "metadata": {
    "colab": {
     "base_uri": "https://localhost:8080/",
     "height": 321
    },
    "id": "eJyq9N7aCWp-",
    "outputId": "71ff0c2f-6840-47a2-c19d-77860836fc29"
   },
   "outputs": [
    {
     "data": {
      "image/png": "[encoded data removed]",
      "text/plain": [
       "<Figure size 288x367.2 with 6 Axes>"
      ]
     },
     "metadata": {
      "needs_background": "light"
     },
     "output_type": "display_data"
    }
   ],
   "source": [
    "# Randomly generated input for the AE\n",
    "X = 0.25 + torch.randn(1,784)\n",
    "\n",
    "prefix = direc_pics + 'Q2b_'\n",
    "loss_dict = {}\n",
    "cols, rows = 2, len(model_dict.keys())\n",
    "\n",
    "count = 1\n",
    "figure = plt.figure(figsize=(4,1.7*rows))\n",
    "for key in model_dict.keys():\n",
    "    modell = model_dict[key]\n",
    "    Xhat = modell(X)['out']\n",
    "    loss_dict[key] = loss_fn(X, Xhat)\n",
    "\n",
    "    figure.add_subplot(rows, cols, 2*count-1)\n",
    "    plt.title('In, Size:{0}, Err:{1:0.2f}'.format(key, loss_dict[key]), fontsize=9)\n",
    "    plt.axis(\"off\")\n",
    "    plt.imshow(torch.reshape(X, (28,28)).detach().numpy())\n",
    "    figure.add_subplot(rows, cols, 2*count)\n",
    "    plt.title('Out, Size:{0}, Err:{1:0.2f}'.format(key, loss_dict[key]), fontsize=9)\n",
    "    plt.axis(\"off\")\n",
    "    plt.imshow(torch.reshape(Xhat, (28,28)).detach().numpy())\n",
    "    count += 1\n",
    "plt.savefig(prefix + 'img.png',bbox_inches='tight')\n",
    "plt.show()\n"
   ]
  },
  {
   "cell_type": "markdown",
   "metadata": {
    "id": "pEM-Sh_o957-"
   },
   "source": [
    "# Sparse AutoEncoders"
   ]
  },
  {
   "cell_type": "code",
   "execution_count": null,
   "metadata": {
    "id": "94sbMj2X9-42"
   },
   "outputs": [],
   "source": []
  },
  {
   "cell_type": "code",
   "execution_count": null,
   "metadata": {
    "id": "jfAyZTHn9-8o"
   },
   "outputs": [],
   "source": []
  },
  {
   "cell_type": "code",
   "execution_count": null,
   "metadata": {
    "id": "1FMj4IXk9_NA"
   },
   "outputs": [],
   "source": []
  },
  {
   "cell_type": "markdown",
   "metadata": {
    "id": "vhO97qejhmuq"
   },
   "source": [
    "# Plotting"
   ]
  },
  {
   "cell_type": "code",
   "execution_count": null,
   "metadata": {
    "id": "ABmZOImPhg8Y"
   },
   "outputs": [],
   "source": [
    "def plotGraphs(losses, losses_test, acc_test, interval, prefix=''):\n",
    "    '''\n",
    "    Function to do all the relevant plotting of loss, accuracy vs iterations\n",
    "    Arguments:\n",
    "    losses          List containing loss on the training set every iteration\n",
    "    losses_test     List containing loss on the test set every 'interval' iterations\n",
    "    acc_test        Accuracy of prediction on the test set every 'interval' iterations    \n",
    "    interval        Number of iterations between test set evaluations during training\n",
    "    prefix          Prefix to be added to plot names when saving     (default: '')\n",
    "    '''\n",
    "    # Number of iterations carried out during training\n",
    "    num_iters = len(losses)\n",
    "\n",
    "    plt.figure()\n",
    "    plt.plot(np.arange(num_iters), losses)\n",
    "    plt.grid()\n",
    "    plt.xlabel('Iterations')\n",
    "    plt.ylabel('Loss')\n",
    "    plt.title('Train Loss Plot')\n",
    "    plt.savefig(prefix + '_train_loss.png',bbox_inches='tight')\n",
    "    # wandb.log({\"Loss v iter\": plt})\n",
    "    plt.show()\n",
    "\n",
    "    plt.figure()\n",
    "    plt.plot(list(np.arange(1, num_iters-1, interval)) + [num_iters], acc_test)\n",
    "    plt.grid()\n",
    "    plt.xlabel('Iterations')\n",
    "    plt.ylabel('Accuracy')\n",
    "    plt.title('Test Accuracy Plot')\n",
    "    plt.savefig(prefix + '_test_acc.png',bbox_inches='tight')\n",
    "    # wandb.log({\"Accuracy v iter(test)\": plt})\n",
    "    plt.show()\n",
    "\n",
    "    plt.figure()\n",
    "    plt.plot(list(np.arange(1, num_iters-1, interval)) + [num_iters], losses_test)\n",
    "    plt.grid()\n",
    "    plt.xlabel('Iterations')\n",
    "    plt.ylabel('Loss')\n",
    "    plt.title('Test Loss Plot')\n",
    "    plt.savefig(prefix + '_test_loss.png',bbox_inches='tight')\n",
    "    # wandb.log({\"Loss v iter(test)\": plt})\n",
    "    plt.show()\n"
   ]
  },
  {
   "cell_type": "code",
   "execution_count": null,
   "metadata": {
    "id": "nyQTV4ZFkTC6"
   },
   "outputs": [],
   "source": [
    "# Plotting of training and test metrics\n",
    "direc = './drive/MyDrive/Semester_7/Advanced_Signal_Processing/A2_CNN/CNN_pics/'\n",
    "prefix = direc + 'baseline'\n",
    "plotGraphs(losses, losses_test, acc_test, interval, prefix)"
   ]
  },
  {
   "cell_type": "code",
   "execution_count": null,
   "metadata": {
    "id": "P4_8TAEnteqC"
   },
   "outputs": [],
   "source": [
    "dataloader = loaders['test']\n",
    "direc = './drive/MyDrive/Semester_7/Advanced_Signal_Processing/A2_CNN/CNN_pics/'\n",
    "prefix = direc + 'baseline'\n",
    "\n",
    "with torch.no_grad():\n",
    "    for X, y in dataloader:\n",
    "        temp = model(X)\n",
    "    \n",
    "    figure = plt.figure(figsize=(10, 10))\n",
    "    cols, rows = 5, 5\n",
    "    for i in range(1, cols * rows + 1):\n",
    "        sample_idx = torch.randint(5000, size=(1,)).item()\n",
    "        img, label = X[sample_idx], y[sample_idx]\n",
    "        figure.add_subplot(rows, cols, i)\n",
    "        plt.title('Truth: {} | Pred: {}'.format(label, temp['preds'][sample_idx]), fontsize=9)\n",
    "        plt.axis(\"off\")\n",
    "        plt.imshow(img.squeeze(), cmap=\"gray\")\n",
    "    plt.savefig(prefix + '_samples.png',bbox_inches='tight')\n",
    "    plt.show()\n"
   ]
  },
  {
   "cell_type": "markdown",
   "metadata": {
    "id": "1wO5ipX5hwFm"
   },
   "source": [
    "# Rough Work"
   ]
  },
  {
   "cell_type": "code",
   "execution_count": null,
   "metadata": {
    "id": "0TO72d1zuFqx"
   },
   "outputs": [],
   "source": [
    "for i in range(num_epochs):\n",
    "    print(f\"Epoch {i+7}\\n-------------------------------\")\n",
    "    train_loop(loaders['train'], model, loss_fn, optimizer)\n",
    "    test_loop(loaders['test'], model, loss_fn)\n",
    "print(\"Done!\")"
   ]
  },
  {
   "cell_type": "code",
   "execution_count": null,
   "metadata": {
    "colab": {
     "base_uri": "https://localhost:8080/"
    },
    "id": "hOGWdk-uX3lY",
    "outputId": "6ff68ee9-5a61-4e3b-d4cd-a2a0f94771c2"
   },
   "outputs": [
    {
     "name": "stdout",
     "output_type": "stream",
     "text": [
      "<class 'tuple'>\n",
      "torch.Size([1, 28, 28])\n",
      "<class 'int'>\n",
      "torch.Size([28, 28])\n",
      "tensor(5)\n",
      "torch.Size([10000, 28, 28])\n",
      "torch.Size([10000])\n"
     ]
    }
   ],
   "source": [
    "print(type(train_data[0]))\n",
    "print(train_data[0][0].shape)\n",
    "print(type(train_data[0][1]))\n",
    "\n",
    "print(train_data.data[0].size())\n",
    "print(train_data.targets[0])\n",
    "print(test_data.data.size())\n",
    "print(test_data.targets.size())"
   ]
  },
  {
   "cell_type": "code",
   "execution_count": null,
   "metadata": {
    "colab": {
     "base_uri": "https://localhost:8080/"
    },
    "id": "Qk2sIyFkcD4F",
    "outputId": "96e7d8ad-ea5a-4eb0-f80f-a479365fddb4"
   },
   "outputs": [
    {
     "name": "stdout",
     "output_type": "stream",
     "text": [
      "tensor([[  0,   0,   0,   0,   0,   0,   0,   0,   0,   0,   0,   0,   0,   0,\n",
      "           0,   0,   0,   0,   0,   0,   0,   0,   0,   0,   0,   0,   0,   0],\n",
      "        [  0,   0,   0,   0,   0,   0,   0,   0,   0,   0,   0,   0,   0,   0,\n",
      "           0,   0,   0,   0,   0,   0,   0,   0,   0,   0,   0,   0,   0,   0],\n",
      "        [  0,   0,   0,   0,   0,   0,   0,   0,   0,   0,   0,   0,   0,   0,\n",
      "           0,   0,   0,   0,   0,   0,   0,   0,   0,   0,   0,   0,   0,   0],\n",
      "        [  0,   0,   0,   0,   0,   0,   0,   0,   0,   0,   0,   0,   0,   0,\n",
      "           0,   0,   0,   0,   0,   0,   0,   0,   0,   0,   0,   0,   0,   0],\n",
      "        [  0,   0,   0,   0,   0,   0,   0,   0,   0,   0,   0,   0,   0,   0,\n",
      "           0,   0,   0,   0,   0,   0,   0,   0,   0,   0,   0,   0,   0,   0],\n",
      "        [  0,   0,   0,   0,   0,   0,   0,   0,   0,   0,   0,   0,   3,  18,\n",
      "          18,  18, 126, 136, 175,  26, 166, 255, 247, 127,   0,   0,   0,   0],\n",
      "        [  0,   0,   0,   0,   0,   0,   0,   0,  30,  36,  94, 154, 170, 253,\n",
      "         253, 253, 253, 253, 225, 172, 253, 242, 195,  64,   0,   0,   0,   0],\n",
      "        [  0,   0,   0,   0,   0,   0,   0,  49, 238, 253, 253, 253, 253, 253,\n",
      "         253, 253, 253, 251,  93,  82,  82,  56,  39,   0,   0,   0,   0,   0],\n",
      "        [  0,   0,   0,   0,   0,   0,   0,  18, 219, 253, 253, 253, 253, 253,\n",
      "         198, 182, 247, 241,   0,   0,   0,   0,   0,   0,   0,   0,   0,   0],\n",
      "        [  0,   0,   0,   0,   0,   0,   0,   0,  80, 156, 107, 253, 253, 205,\n",
      "          11,   0,  43, 154,   0,   0,   0,   0,   0,   0,   0,   0,   0,   0],\n",
      "        [  0,   0,   0,   0,   0,   0,   0,   0,   0,  14,   1, 154, 253,  90,\n",
      "           0,   0,   0,   0,   0,   0,   0,   0,   0,   0,   0,   0,   0,   0],\n",
      "        [  0,   0,   0,   0,   0,   0,   0,   0,   0,   0,   0, 139, 253, 190,\n",
      "           2,   0,   0,   0,   0,   0,   0,   0,   0,   0,   0,   0,   0,   0],\n",
      "        [  0,   0,   0,   0,   0,   0,   0,   0,   0,   0,   0,  11, 190, 253,\n",
      "          70,   0,   0,   0,   0,   0,   0,   0,   0,   0,   0,   0,   0,   0],\n",
      "        [  0,   0,   0,   0,   0,   0,   0,   0,   0,   0,   0,   0,  35, 241,\n",
      "         225, 160, 108,   1,   0,   0,   0,   0,   0,   0,   0,   0,   0,   0],\n",
      "        [  0,   0,   0,   0,   0,   0,   0,   0,   0,   0,   0,   0,   0,  81,\n",
      "         240, 253, 253, 119,  25,   0,   0,   0,   0,   0,   0,   0,   0,   0],\n",
      "        [  0,   0,   0,   0,   0,   0,   0,   0,   0,   0,   0,   0,   0,   0,\n",
      "          45, 186, 253, 253, 150,  27,   0,   0,   0,   0,   0,   0,   0,   0],\n",
      "        [  0,   0,   0,   0,   0,   0,   0,   0,   0,   0,   0,   0,   0,   0,\n",
      "           0,  16,  93, 252, 253, 187,   0,   0,   0,   0,   0,   0,   0,   0],\n",
      "        [  0,   0,   0,   0,   0,   0,   0,   0,   0,   0,   0,   0,   0,   0,\n",
      "           0,   0,   0, 249, 253, 249,  64,   0,   0,   0,   0,   0,   0,   0],\n",
      "        [  0,   0,   0,   0,   0,   0,   0,   0,   0,   0,   0,   0,   0,   0,\n",
      "          46, 130, 183, 253, 253, 207,   2,   0,   0,   0,   0,   0,   0,   0],\n",
      "        [  0,   0,   0,   0,   0,   0,   0,   0,   0,   0,   0,   0,  39, 148,\n",
      "         229, 253, 253, 253, 250, 182,   0,   0,   0,   0,   0,   0,   0,   0],\n",
      "        [  0,   0,   0,   0,   0,   0,   0,   0,   0,   0,  24, 114, 221, 253,\n",
      "         253, 253, 253, 201,  78,   0,   0,   0,   0,   0,   0,   0,   0,   0],\n",
      "        [  0,   0,   0,   0,   0,   0,   0,   0,  23,  66, 213, 253, 253, 253,\n",
      "         253, 198,  81,   2,   0,   0,   0,   0,   0,   0,   0,   0,   0,   0],\n",
      "        [  0,   0,   0,   0,   0,   0,  18, 171, 219, 253, 253, 253, 253, 195,\n",
      "          80,   9,   0,   0,   0,   0,   0,   0,   0,   0,   0,   0,   0,   0],\n",
      "        [  0,   0,   0,   0,  55, 172, 226, 253, 253, 253, 253, 244, 133,  11,\n",
      "           0,   0,   0,   0,   0,   0,   0,   0,   0,   0,   0,   0,   0,   0],\n",
      "        [  0,   0,   0,   0, 136, 253, 253, 253, 212, 135, 132,  16,   0,   0,\n",
      "           0,   0,   0,   0,   0,   0,   0,   0,   0,   0,   0,   0,   0,   0],\n",
      "        [  0,   0,   0,   0,   0,   0,   0,   0,   0,   0,   0,   0,   0,   0,\n",
      "           0,   0,   0,   0,   0,   0,   0,   0,   0,   0,   0,   0,   0,   0],\n",
      "        [  0,   0,   0,   0,   0,   0,   0,   0,   0,   0,   0,   0,   0,   0,\n",
      "           0,   0,   0,   0,   0,   0,   0,   0,   0,   0,   0,   0,   0,   0],\n",
      "        [  0,   0,   0,   0,   0,   0,   0,   0,   0,   0,   0,   0,   0,   0,\n",
      "           0,   0,   0,   0,   0,   0,   0,   0,   0,   0,   0,   0,   0,   0]],\n",
      "       dtype=torch.uint8)\n"
     ]
    }
   ],
   "source": [
    "print(train_data.data[0])"
   ]
  },
  {
   "cell_type": "code",
   "execution_count": null,
   "metadata": {
    "colab": {
     "base_uri": "https://localhost:8080/"
    },
    "id": "ZdbpQ4yXCWJa",
    "outputId": "51395dc4-e3f6-4f16-bc44-9396639496b9"
   },
   "outputs": [
    {
     "name": "stdout",
     "output_type": "stream",
     "text": [
      "tensor(1.)\n",
      "tensor(0.)\n",
      "1\n"
     ]
    }
   ],
   "source": [
    "count = 0\n",
    "for X, y in loaders['test']:\n",
    "    print(torch.max(X))\n",
    "    print(torch.min(X))\n",
    "    count +=1\n",
    "\n",
    "print(count)"
   ]
  },
  {
   "cell_type": "code",
   "execution_count": null,
   "metadata": {
    "colab": {
     "base_uri": "https://localhost:8080/"
    },
    "id": "1AE4eQ2CIdhx",
    "outputId": "678439e6-60e2-41a0-8992-535d5bc1ee39"
   },
   "outputs": [
    {
     "name": "stdout",
     "output_type": "stream",
     "text": [
      "tensor([[ 0.1682,  0.0352, -0.0727],\n",
      "        [ 0.0445,  0.0273,  0.0332],\n",
      "        [-0.0528,  0.0815,  0.0814]])\n",
      "tensor([[-0.0973, -0.0522,  0.0827],\n",
      "        [ 0.0806,  0.1013,  0.0621],\n",
      "        [-0.0726, -0.0152, -0.0426]])\n"
     ]
    }
   ],
   "source": [
    "print(model.state_dict()['conv2.0.weight'][0,0,:,:])\n",
    "print(model.state_dict()['conv2.0.weight'][1,0,:,:])"
   ]
  },
  {
   "cell_type": "code",
   "execution_count": null,
   "metadata": {
    "id": "5Sm7WrxWdNdO"
   },
   "outputs": [],
   "source": [
    "for X, y in loaders['test']:\n",
    "    Xhat = model(X)['out']\n",
    "    for i in range(5):\n",
    "        plt.figure()\n",
    "        plt.imshow(torch.reshape(X[i], (28,28)).detach().numpy())\n",
    "        plt.figure()\n",
    "        plt.imshow(torch.reshape(Xhat[i], (28,28)).detach().numpy())\n",
    "    break"
   ]
  },
  {
   "cell_type": "code",
   "execution_count": null,
   "metadata": {
    "colab": {
     "base_uri": "https://localhost:8080/"
    },
    "id": "_AU0m2ERneZq",
    "outputId": "a4701b48-4cf4-4dc6-bdbd-e2f715cb807e"
   },
   "outputs": [
    {
     "name": "stdout",
     "output_type": "stream",
     "text": [
      "1\n"
     ]
    }
   ],
   "source": [
    "aa = np.zeros((1,3))\n",
    "print(len(aa))"
   ]
  }
 ],
 "metadata": {
  "colab": {
   "collapsed_sections": [
    "b2-XDxmZV7lk",
    "5XrTMmhaV_mr",
    "zegdKFYwWHMh",
    "pGGYhq29-S7z",
    "QlYajhpwCMFz",
    "vhO97qejhmuq",
    "1wO5ipX5hwFm"
   ],
   "name": "EE6132_Lab3_AE.ipynb",
   "provenance": []
  },
  "kernelspec": {
   "display_name": "Python 3",
   "language": "python",
   "name": "python3"
  },
  "language_info": {
   "codemirror_mode": {
    "name": "ipython",
    "version": 3
   },
   "file_extension": ".py",
   "mimetype": "text/x-python",
   "name": "python",
   "nbconvert_exporter": "python",
   "pygments_lexer": "ipython3",
   "version": "3.7.4"
  },
  "widgets": {
   "application/vnd.jupyter.widget-state+json": {
    "074e253f296e40abacdd08af65db086c": {
     "model_module": "@jupyter-widgets/controls",
     "model_module_version": "1.5.0",
     "model_name": "HBoxModel",
     "state": {
      "_dom_classes": [],
      "_model_module": "@jupyter-widgets/controls",
      "_model_module_version": "1.5.0",
      "_model_name": "HBoxModel",
      "_view_count": null,
      "_view_module": "@jupyter-widgets/controls",
      "_view_module_version": "1.5.0",
      "_view_name": "HBoxView",
      "box_style": "",
      "children": [
       "IPY_MODEL_6161e829f7b8417da775c2d9ce508d69",
       "IPY_MODEL_48e19d4a62234ee7b1c7180bce93770d",
       "IPY_MODEL_7dfc5a539133456bad0071126f428419"
      ],
      "layout": "IPY_MODEL_7bca19d74d6d4eff9b1ce62fb6f65631"
     }
    },
    "078a1973ac85401b978df3d011256465": {
     "model_module": "@jupyter-widgets/base",
     "model_module_version": "1.2.0",
     "model_name": "LayoutModel",
     "state": {
      "_model_module": "@jupyter-widgets/base",
      "_model_module_version": "1.2.0",
      "_model_name": "LayoutModel",
      "_view_count": null,
      "_view_module": "@jupyter-widgets/base",
      "_view_module_version": "1.2.0",
      "_view_name": "LayoutView",
      "align_content": null,
      "align_items": null,
      "align_self": null,
      "border": null,
      "bottom": null,
      "display": null,
      "flex": null,
      "flex_flow": null,
      "grid_area": null,
      "grid_auto_columns": null,
      "grid_auto_flow": null,
      "grid_auto_rows": null,
      "grid_column": null,
      "grid_gap": null,
      "grid_row": null,
      "grid_template_areas": null,
      "grid_template_columns": null,
      "grid_template_rows": null,
      "height": null,
      "justify_content": null,
      "justify_items": null,
      "left": null,
      "margin": null,
      "max_height": null,
      "max_width": null,
      "min_height": null,
      "min_width": null,
      "object_fit": null,
      "object_position": null,
      "order": null,
      "overflow": null,
      "overflow_x": null,
      "overflow_y": null,
      "padding": null,
      "right": null,
      "top": null,
      "visibility": null,
      "width": null
     }
    },
    "0d7717c9c8aa4d0aa83bd70bae8b55a2": {
     "model_module": "@jupyter-widgets/controls",
     "model_module_version": "1.5.0",
     "model_name": "DescriptionStyleModel",
     "state": {
      "_model_module": "@jupyter-widgets/controls",
      "_model_module_version": "1.5.0",
      "_model_name": "DescriptionStyleModel",
      "_view_count": null,
      "_view_module": "@jupyter-widgets/base",
      "_view_module_version": "1.2.0",
      "_view_name": "StyleView",
      "description_width": ""
     }
    },
    "13545109d6dd4572952b866bc079ce07": {
     "model_module": "@jupyter-widgets/controls",
     "model_module_version": "1.5.0",
     "model_name": "HTMLModel",
     "state": {
      "_dom_classes": [],
      "_model_module": "@jupyter-widgets/controls",
      "_model_module_version": "1.5.0",
      "_model_name": "HTMLModel",
      "_view_count": null,
      "_view_module": "@jupyter-widgets/controls",
      "_view_module_version": "1.5.0",
      "_view_name": "HTMLView",
      "description": "",
      "description_tooltip": null,
      "layout": "IPY_MODEL_7005aa982ecf4c8a8b5ca7879d759b83",
      "placeholder": "​",
      "style": "IPY_MODEL_995bde12caa540ab9ac2d800806ce510",
      "value": ""
     }
    },
    "31b814b056bb4458ad12943333829443": {
     "model_module": "@jupyter-widgets/base",
     "model_module_version": "1.2.0",
     "model_name": "LayoutModel",
     "state": {
      "_model_module": "@jupyter-widgets/base",
      "_model_module_version": "1.2.0",
      "_model_name": "LayoutModel",
      "_view_count": null,
      "_view_module": "@jupyter-widgets/base",
      "_view_module_version": "1.2.0",
      "_view_name": "LayoutView",
      "align_content": null,
      "align_items": null,
      "align_self": null,
      "border": null,
      "bottom": null,
      "display": null,
      "flex": null,
      "flex_flow": null,
      "grid_area": null,
      "grid_auto_columns": null,
      "grid_auto_flow": null,
      "grid_auto_rows": null,
      "grid_column": null,
      "grid_gap": null,
      "grid_row": null,
      "grid_template_areas": null,
      "grid_template_columns": null,
      "grid_template_rows": null,
      "height": null,
      "justify_content": null,
      "justify_items": null,
      "left": null,
      "margin": null,
      "max_height": null,
      "max_width": null,
      "min_height": null,
      "min_width": null,
      "object_fit": null,
      "object_position": null,
      "order": null,
      "overflow": null,
      "overflow_x": null,
      "overflow_y": null,
      "padding": null,
      "right": null,
      "top": null,
      "visibility": null,
      "width": null
     }
    },
    "37799ce26d604211b84e51de427112e7": {
     "model_module": "@jupyter-widgets/controls",
     "model_module_version": "1.5.0",
     "model_name": "HTMLModel",
     "state": {
      "_dom_classes": [],
      "_model_module": "@jupyter-widgets/controls",
      "_model_module_version": "1.5.0",
      "_model_name": "HTMLModel",
      "_view_count": null,
      "_view_module": "@jupyter-widgets/controls",
      "_view_module_version": "1.5.0",
      "_view_name": "HTMLView",
      "description": "",
      "description_tooltip": null,
      "layout": "IPY_MODEL_8c149355fa4040398b3ae580b43d53ed",
      "placeholder": "​",
      "style": "IPY_MODEL_f9ff31b9f10a43ffab1dac5852203a5b",
      "value": ""
     }
    },
    "39477aa513e24bfbb22778f7c7e7cc24": {
     "model_module": "@jupyter-widgets/base",
     "model_module_version": "1.2.0",
     "model_name": "LayoutModel",
     "state": {
      "_model_module": "@jupyter-widgets/base",
      "_model_module_version": "1.2.0",
      "_model_name": "LayoutModel",
      "_view_count": null,
      "_view_module": "@jupyter-widgets/base",
      "_view_module_version": "1.2.0",
      "_view_name": "LayoutView",
      "align_content": null,
      "align_items": null,
      "align_self": null,
      "border": null,
      "bottom": null,
      "display": null,
      "flex": null,
      "flex_flow": null,
      "grid_area": null,
      "grid_auto_columns": null,
      "grid_auto_flow": null,
      "grid_auto_rows": null,
      "grid_column": null,
      "grid_gap": null,
      "grid_row": null,
      "grid_template_areas": null,
      "grid_template_columns": null,
      "grid_template_rows": null,
      "height": null,
      "justify_content": null,
      "justify_items": null,
      "left": null,
      "margin": null,
      "max_height": null,
      "max_width": null,
      "min_height": null,
      "min_width": null,
      "object_fit": null,
      "object_position": null,
      "order": null,
      "overflow": null,
      "overflow_x": null,
      "overflow_y": null,
      "padding": null,
      "right": null,
      "top": null,
      "visibility": null,
      "width": null
     }
    },
    "3c19210edce44c2c80b070c32a9d3edc": {
     "model_module": "@jupyter-widgets/base",
     "model_module_version": "1.2.0",
     "model_name": "LayoutModel",
     "state": {
      "_model_module": "@jupyter-widgets/base",
      "_model_module_version": "1.2.0",
      "_model_name": "LayoutModel",
      "_view_count": null,
      "_view_module": "@jupyter-widgets/base",
      "_view_module_version": "1.2.0",
      "_view_name": "LayoutView",
      "align_content": null,
      "align_items": null,
      "align_self": null,
      "border": null,
      "bottom": null,
      "display": null,
      "flex": null,
      "flex_flow": null,
      "grid_area": null,
      "grid_auto_columns": null,
      "grid_auto_flow": null,
      "grid_auto_rows": null,
      "grid_column": null,
      "grid_gap": null,
      "grid_row": null,
      "grid_template_areas": null,
      "grid_template_columns": null,
      "grid_template_rows": null,
      "height": null,
      "justify_content": null,
      "justify_items": null,
      "left": null,
      "margin": null,
      "max_height": null,
      "max_width": null,
      "min_height": null,
      "min_width": null,
      "object_fit": null,
      "object_position": null,
      "order": null,
      "overflow": null,
      "overflow_x": null,
      "overflow_y": null,
      "padding": null,
      "right": null,
      "top": null,
      "visibility": null,
      "width": null
     }
    },
    "3f88c449286e4a2dbc38b63694996b1b": {
     "model_module": "@jupyter-widgets/controls",
     "model_module_version": "1.5.0",
     "model_name": "FloatProgressModel",
     "state": {
      "_dom_classes": [],
      "_model_module": "@jupyter-widgets/controls",
      "_model_module_version": "1.5.0",
      "_model_name": "FloatProgressModel",
      "_view_count": null,
      "_view_module": "@jupyter-widgets/controls",
      "_view_module_version": "1.5.0",
      "_view_name": "ProgressView",
      "bar_style": "success",
      "description": "",
      "description_tooltip": null,
      "layout": "IPY_MODEL_a3078cbb4a9f4ad98b6547456edfacdf",
      "max": 28881,
      "min": 0,
      "orientation": "horizontal",
      "style": "IPY_MODEL_5e7ef5f82893421892b182482e549a5d",
      "value": 28881
     }
    },
    "45f88a25113049d486da61b197c9e5cf": {
     "model_module": "@jupyter-widgets/base",
     "model_module_version": "1.2.0",
     "model_name": "LayoutModel",
     "state": {
      "_model_module": "@jupyter-widgets/base",
      "_model_module_version": "1.2.0",
      "_model_name": "LayoutModel",
      "_view_count": null,
      "_view_module": "@jupyter-widgets/base",
      "_view_module_version": "1.2.0",
      "_view_name": "LayoutView",
      "align_content": null,
      "align_items": null,
      "align_self": null,
      "border": null,
      "bottom": null,
      "display": null,
      "flex": null,
      "flex_flow": null,
      "grid_area": null,
      "grid_auto_columns": null,
      "grid_auto_flow": null,
      "grid_auto_rows": null,
      "grid_column": null,
      "grid_gap": null,
      "grid_row": null,
      "grid_template_areas": null,
      "grid_template_columns": null,
      "grid_template_rows": null,
      "height": null,
      "justify_content": null,
      "justify_items": null,
      "left": null,
      "margin": null,
      "max_height": null,
      "max_width": null,
      "min_height": null,
      "min_width": null,
      "object_fit": null,
      "object_position": null,
      "order": null,
      "overflow": null,
      "overflow_x": null,
      "overflow_y": null,
      "padding": null,
      "right": null,
      "top": null,
      "visibility": null,
      "width": null
     }
    },
    "48e19d4a62234ee7b1c7180bce93770d": {
     "model_module": "@jupyter-widgets/controls",
     "model_module_version": "1.5.0",
     "model_name": "FloatProgressModel",
     "state": {
      "_dom_classes": [],
      "_model_module": "@jupyter-widgets/controls",
      "_model_module_version": "1.5.0",
      "_model_name": "FloatProgressModel",
      "_view_count": null,
      "_view_module": "@jupyter-widgets/controls",
      "_view_module_version": "1.5.0",
      "_view_name": "ProgressView",
      "bar_style": "success",
      "description": "",
      "description_tooltip": null,
      "layout": "IPY_MODEL_5d21447598d64adda8a07ba511818a37",
      "max": 4542,
      "min": 0,
      "orientation": "horizontal",
      "style": "IPY_MODEL_ac0a0c32b3434277afdb27ca53043c3b",
      "value": 4542
     }
    },
    "4b520437d51b4b8a9e4a6f16467c56f9": {
     "model_module": "@jupyter-widgets/controls",
     "model_module_version": "1.5.0",
     "model_name": "DescriptionStyleModel",
     "state": {
      "_model_module": "@jupyter-widgets/controls",
      "_model_module_version": "1.5.0",
      "_model_name": "DescriptionStyleModel",
      "_view_count": null,
      "_view_module": "@jupyter-widgets/base",
      "_view_module_version": "1.2.0",
      "_view_name": "StyleView",
      "description_width": ""
     }
    },
    "550fa2a0893448f98ac04c9986878b15": {
     "model_module": "@jupyter-widgets/controls",
     "model_module_version": "1.5.0",
     "model_name": "DescriptionStyleModel",
     "state": {
      "_model_module": "@jupyter-widgets/controls",
      "_model_module_version": "1.5.0",
      "_model_name": "DescriptionStyleModel",
      "_view_count": null,
      "_view_module": "@jupyter-widgets/base",
      "_view_module_version": "1.2.0",
      "_view_name": "StyleView",
      "description_width": ""
     }
    },
    "572adedcc25e40638feb466e0b0d78fb": {
     "model_module": "@jupyter-widgets/controls",
     "model_module_version": "1.5.0",
     "model_name": "ProgressStyleModel",
     "state": {
      "_model_module": "@jupyter-widgets/controls",
      "_model_module_version": "1.5.0",
      "_model_name": "ProgressStyleModel",
      "_view_count": null,
      "_view_module": "@jupyter-widgets/base",
      "_view_module_version": "1.2.0",
      "_view_name": "StyleView",
      "bar_color": null,
      "description_width": ""
     }
    },
    "5d21447598d64adda8a07ba511818a37": {
     "model_module": "@jupyter-widgets/base",
     "model_module_version": "1.2.0",
     "model_name": "LayoutModel",
     "state": {
      "_model_module": "@jupyter-widgets/base",
      "_model_module_version": "1.2.0",
      "_model_name": "LayoutModel",
      "_view_count": null,
      "_view_module": "@jupyter-widgets/base",
      "_view_module_version": "1.2.0",
      "_view_name": "LayoutView",
      "align_content": null,
      "align_items": null,
      "align_self": null,
      "border": null,
      "bottom": null,
      "display": null,
      "flex": null,
      "flex_flow": null,
      "grid_area": null,
      "grid_auto_columns": null,
      "grid_auto_flow": null,
      "grid_auto_rows": null,
      "grid_column": null,
      "grid_gap": null,
      "grid_row": null,
      "grid_template_areas": null,
      "grid_template_columns": null,
      "grid_template_rows": null,
      "height": null,
      "justify_content": null,
      "justify_items": null,
      "left": null,
      "margin": null,
      "max_height": null,
      "max_width": null,
      "min_height": null,
      "min_width": null,
      "object_fit": null,
      "object_position": null,
      "order": null,
      "overflow": null,
      "overflow_x": null,
      "overflow_y": null,
      "padding": null,
      "right": null,
      "top": null,
      "visibility": null,
      "width": null
     }
    },
    "5e7ef5f82893421892b182482e549a5d": {
     "model_module": "@jupyter-widgets/controls",
     "model_module_version": "1.5.0",
     "model_name": "ProgressStyleModel",
     "state": {
      "_model_module": "@jupyter-widgets/controls",
      "_model_module_version": "1.5.0",
      "_model_name": "ProgressStyleModel",
      "_view_count": null,
      "_view_module": "@jupyter-widgets/base",
      "_view_module_version": "1.2.0",
      "_view_name": "StyleView",
      "bar_color": null,
      "description_width": ""
     }
    },
    "6161e829f7b8417da775c2d9ce508d69": {
     "model_module": "@jupyter-widgets/controls",
     "model_module_version": "1.5.0",
     "model_name": "HTMLModel",
     "state": {
      "_dom_classes": [],
      "_model_module": "@jupyter-widgets/controls",
      "_model_module_version": "1.5.0",
      "_model_name": "HTMLModel",
      "_view_count": null,
      "_view_module": "@jupyter-widgets/controls",
      "_view_module_version": "1.5.0",
      "_view_name": "HTMLView",
      "description": "",
      "description_tooltip": null,
      "layout": "IPY_MODEL_45f88a25113049d486da61b197c9e5cf",
      "placeholder": "​",
      "style": "IPY_MODEL_4b520437d51b4b8a9e4a6f16467c56f9",
      "value": ""
     }
    },
    "660e1a491d7a4d6899cf93ef3826391e": {
     "model_module": "@jupyter-widgets/controls",
     "model_module_version": "1.5.0",
     "model_name": "HTMLModel",
     "state": {
      "_dom_classes": [],
      "_model_module": "@jupyter-widgets/controls",
      "_model_module_version": "1.5.0",
      "_model_name": "HTMLModel",
      "_view_count": null,
      "_view_module": "@jupyter-widgets/controls",
      "_view_module_version": "1.5.0",
      "_view_name": "HTMLView",
      "description": "",
      "description_tooltip": null,
      "layout": "IPY_MODEL_aa568e8b72484b0683136c92e31f991c",
      "placeholder": "​",
      "style": "IPY_MODEL_a51f97a6dbc3458c9b6d94a60442fad2",
      "value": " 1649664/? [00:00&lt;00:00, 14786433.09it/s]"
     }
    },
    "677e03eaa96f47e7859643d29d01d255": {
     "model_module": "@jupyter-widgets/controls",
     "model_module_version": "1.5.0",
     "model_name": "HTMLModel",
     "state": {
      "_dom_classes": [],
      "_model_module": "@jupyter-widgets/controls",
      "_model_module_version": "1.5.0",
      "_model_name": "HTMLModel",
      "_view_count": null,
      "_view_module": "@jupyter-widgets/controls",
      "_view_module_version": "1.5.0",
      "_view_name": "HTMLView",
      "description": "",
      "description_tooltip": null,
      "layout": "IPY_MODEL_39477aa513e24bfbb22778f7c7e7cc24",
      "placeholder": "​",
      "style": "IPY_MODEL_c56a621895e241aba8709b2d9b332ac4",
      "value": " 29696/? [00:00&lt;00:00, 820946.82it/s]"
     }
    },
    "6c15205eebae4ee784f06e850b5bd038": {
     "model_module": "@jupyter-widgets/base",
     "model_module_version": "1.2.0",
     "model_name": "LayoutModel",
     "state": {
      "_model_module": "@jupyter-widgets/base",
      "_model_module_version": "1.2.0",
      "_model_name": "LayoutModel",
      "_view_count": null,
      "_view_module": "@jupyter-widgets/base",
      "_view_module_version": "1.2.0",
      "_view_name": "LayoutView",
      "align_content": null,
      "align_items": null,
      "align_self": null,
      "border": null,
      "bottom": null,
      "display": null,
      "flex": null,
      "flex_flow": null,
      "grid_area": null,
      "grid_auto_columns": null,
      "grid_auto_flow": null,
      "grid_auto_rows": null,
      "grid_column": null,
      "grid_gap": null,
      "grid_row": null,
      "grid_template_areas": null,
      "grid_template_columns": null,
      "grid_template_rows": null,
      "height": null,
      "justify_content": null,
      "justify_items": null,
      "left": null,
      "margin": null,
      "max_height": null,
      "max_width": null,
      "min_height": null,
      "min_width": null,
      "object_fit": null,
      "object_position": null,
      "order": null,
      "overflow": null,
      "overflow_x": null,
      "overflow_y": null,
      "padding": null,
      "right": null,
      "top": null,
      "visibility": null,
      "width": null
     }
    },
    "7005aa982ecf4c8a8b5ca7879d759b83": {
     "model_module": "@jupyter-widgets/base",
     "model_module_version": "1.2.0",
     "model_name": "LayoutModel",
     "state": {
      "_model_module": "@jupyter-widgets/base",
      "_model_module_version": "1.2.0",
      "_model_name": "LayoutModel",
      "_view_count": null,
      "_view_module": "@jupyter-widgets/base",
      "_view_module_version": "1.2.0",
      "_view_name": "LayoutView",
      "align_content": null,
      "align_items": null,
      "align_self": null,
      "border": null,
      "bottom": null,
      "display": null,
      "flex": null,
      "flex_flow": null,
      "grid_area": null,
      "grid_auto_columns": null,
      "grid_auto_flow": null,
      "grid_auto_rows": null,
      "grid_column": null,
      "grid_gap": null,
      "grid_row": null,
      "grid_template_areas": null,
      "grid_template_columns": null,
      "grid_template_rows": null,
      "height": null,
      "justify_content": null,
      "justify_items": null,
      "left": null,
      "margin": null,
      "max_height": null,
      "max_width": null,
      "min_height": null,
      "min_width": null,
      "object_fit": null,
      "object_position": null,
      "order": null,
      "overflow": null,
      "overflow_x": null,
      "overflow_y": null,
      "padding": null,
      "right": null,
      "top": null,
      "visibility": null,
      "width": null
     }
    },
    "7bca19d74d6d4eff9b1ce62fb6f65631": {
     "model_module": "@jupyter-widgets/base",
     "model_module_version": "1.2.0",
     "model_name": "LayoutModel",
     "state": {
      "_model_module": "@jupyter-widgets/base",
      "_model_module_version": "1.2.0",
      "_model_name": "LayoutModel",
      "_view_count": null,
      "_view_module": "@jupyter-widgets/base",
      "_view_module_version": "1.2.0",
      "_view_name": "LayoutView",
      "align_content": null,
      "align_items": null,
      "align_self": null,
      "border": null,
      "bottom": null,
      "display": null,
      "flex": null,
      "flex_flow": null,
      "grid_area": null,
      "grid_auto_columns": null,
      "grid_auto_flow": null,
      "grid_auto_rows": null,
      "grid_column": null,
      "grid_gap": null,
      "grid_row": null,
      "grid_template_areas": null,
      "grid_template_columns": null,
      "grid_template_rows": null,
      "height": null,
      "justify_content": null,
      "justify_items": null,
      "left": null,
      "margin": null,
      "max_height": null,
      "max_width": null,
      "min_height": null,
      "min_width": null,
      "object_fit": null,
      "object_position": null,
      "order": null,
      "overflow": null,
      "overflow_x": null,
      "overflow_y": null,
      "padding": null,
      "right": null,
      "top": null,
      "visibility": null,
      "width": null
     }
    },
    "7dfc5a539133456bad0071126f428419": {
     "model_module": "@jupyter-widgets/controls",
     "model_module_version": "1.5.0",
     "model_name": "HTMLModel",
     "state": {
      "_dom_classes": [],
      "_model_module": "@jupyter-widgets/controls",
      "_model_module_version": "1.5.0",
      "_model_name": "HTMLModel",
      "_view_count": null,
      "_view_module": "@jupyter-widgets/controls",
      "_view_module_version": "1.5.0",
      "_view_name": "HTMLView",
      "description": "",
      "description_tooltip": null,
      "layout": "IPY_MODEL_cf710d83b5a24e71b0af4a2230376ac0",
      "placeholder": "​",
      "style": "IPY_MODEL_0d7717c9c8aa4d0aa83bd70bae8b55a2",
      "value": " 5120/? [00:00&lt;00:00, 119965.79it/s]"
     }
    },
    "86baa0c42d4041fe940288c0933c1874": {
     "model_module": "@jupyter-widgets/controls",
     "model_module_version": "1.5.0",
     "model_name": "ProgressStyleModel",
     "state": {
      "_model_module": "@jupyter-widgets/controls",
      "_model_module_version": "1.5.0",
      "_model_name": "ProgressStyleModel",
      "_view_count": null,
      "_view_module": "@jupyter-widgets/base",
      "_view_module_version": "1.2.0",
      "_view_name": "StyleView",
      "bar_color": null,
      "description_width": ""
     }
    },
    "8c149355fa4040398b3ae580b43d53ed": {
     "model_module": "@jupyter-widgets/base",
     "model_module_version": "1.2.0",
     "model_name": "LayoutModel",
     "state": {
      "_model_module": "@jupyter-widgets/base",
      "_model_module_version": "1.2.0",
      "_model_name": "LayoutModel",
      "_view_count": null,
      "_view_module": "@jupyter-widgets/base",
      "_view_module_version": "1.2.0",
      "_view_name": "LayoutView",
      "align_content": null,
      "align_items": null,
      "align_self": null,
      "border": null,
      "bottom": null,
      "display": null,
      "flex": null,
      "flex_flow": null,
      "grid_area": null,
      "grid_auto_columns": null,
      "grid_auto_flow": null,
      "grid_auto_rows": null,
      "grid_column": null,
      "grid_gap": null,
      "grid_row": null,
      "grid_template_areas": null,
      "grid_template_columns": null,
      "grid_template_rows": null,
      "height": null,
      "justify_content": null,
      "justify_items": null,
      "left": null,
      "margin": null,
      "max_height": null,
      "max_width": null,
      "min_height": null,
      "min_width": null,
      "object_fit": null,
      "object_position": null,
      "order": null,
      "overflow": null,
      "overflow_x": null,
      "overflow_y": null,
      "padding": null,
      "right": null,
      "top": null,
      "visibility": null,
      "width": null
     }
    },
    "98a57ea904b34928b00e9179b9048282": {
     "model_module": "@jupyter-widgets/controls",
     "model_module_version": "1.5.0",
     "model_name": "HBoxModel",
     "state": {
      "_dom_classes": [],
      "_model_module": "@jupyter-widgets/controls",
      "_model_module_version": "1.5.0",
      "_model_name": "HBoxModel",
      "_view_count": null,
      "_view_module": "@jupyter-widgets/controls",
      "_view_module_version": "1.5.0",
      "_view_name": "HBoxView",
      "box_style": "",
      "children": [
       "IPY_MODEL_37799ce26d604211b84e51de427112e7",
       "IPY_MODEL_e8b36c13246b43b8ac091a1a7b883c7b",
       "IPY_MODEL_660e1a491d7a4d6899cf93ef3826391e"
      ],
      "layout": "IPY_MODEL_cd73046d59354fe2b56fea5c3e34fac3"
     }
    },
    "995bde12caa540ab9ac2d800806ce510": {
     "model_module": "@jupyter-widgets/controls",
     "model_module_version": "1.5.0",
     "model_name": "DescriptionStyleModel",
     "state": {
      "_model_module": "@jupyter-widgets/controls",
      "_model_module_version": "1.5.0",
      "_model_name": "DescriptionStyleModel",
      "_view_count": null,
      "_view_module": "@jupyter-widgets/base",
      "_view_module_version": "1.2.0",
      "_view_name": "StyleView",
      "description_width": ""
     }
    },
    "99cd6e17eb2c4e69b4ab6cdb7147cd11": {
     "model_module": "@jupyter-widgets/controls",
     "model_module_version": "1.5.0",
     "model_name": "HBoxModel",
     "state": {
      "_dom_classes": [],
      "_model_module": "@jupyter-widgets/controls",
      "_model_module_version": "1.5.0",
      "_model_name": "HBoxModel",
      "_view_count": null,
      "_view_module": "@jupyter-widgets/controls",
      "_view_module_version": "1.5.0",
      "_view_name": "HBoxView",
      "box_style": "",
      "children": [
       "IPY_MODEL_fe54e72347674b5bb97cdb3199402609",
       "IPY_MODEL_b3b2a92cb9e94edfb6c3a2573c8e2103",
       "IPY_MODEL_f014c99bbc874b94ab6489fff2b340f2"
      ],
      "layout": "IPY_MODEL_078a1973ac85401b978df3d011256465"
     }
    },
    "a3078cbb4a9f4ad98b6547456edfacdf": {
     "model_module": "@jupyter-widgets/base",
     "model_module_version": "1.2.0",
     "model_name": "LayoutModel",
     "state": {
      "_model_module": "@jupyter-widgets/base",
      "_model_module_version": "1.2.0",
      "_model_name": "LayoutModel",
      "_view_count": null,
      "_view_module": "@jupyter-widgets/base",
      "_view_module_version": "1.2.0",
      "_view_name": "LayoutView",
      "align_content": null,
      "align_items": null,
      "align_self": null,
      "border": null,
      "bottom": null,
      "display": null,
      "flex": null,
      "flex_flow": null,
      "grid_area": null,
      "grid_auto_columns": null,
      "grid_auto_flow": null,
      "grid_auto_rows": null,
      "grid_column": null,
      "grid_gap": null,
      "grid_row": null,
      "grid_template_areas": null,
      "grid_template_columns": null,
      "grid_template_rows": null,
      "height": null,
      "justify_content": null,
      "justify_items": null,
      "left": null,
      "margin": null,
      "max_height": null,
      "max_width": null,
      "min_height": null,
      "min_width": null,
      "object_fit": null,
      "object_position": null,
      "order": null,
      "overflow": null,
      "overflow_x": null,
      "overflow_y": null,
      "padding": null,
      "right": null,
      "top": null,
      "visibility": null,
      "width": null
     }
    },
    "a51f97a6dbc3458c9b6d94a60442fad2": {
     "model_module": "@jupyter-widgets/controls",
     "model_module_version": "1.5.0",
     "model_name": "DescriptionStyleModel",
     "state": {
      "_model_module": "@jupyter-widgets/controls",
      "_model_module_version": "1.5.0",
      "_model_name": "DescriptionStyleModel",
      "_view_count": null,
      "_view_module": "@jupyter-widgets/base",
      "_view_module_version": "1.2.0",
      "_view_name": "StyleView",
      "description_width": ""
     }
    },
    "aa568e8b72484b0683136c92e31f991c": {
     "model_module": "@jupyter-widgets/base",
     "model_module_version": "1.2.0",
     "model_name": "LayoutModel",
     "state": {
      "_model_module": "@jupyter-widgets/base",
      "_model_module_version": "1.2.0",
      "_model_name": "LayoutModel",
      "_view_count": null,
      "_view_module": "@jupyter-widgets/base",
      "_view_module_version": "1.2.0",
      "_view_name": "LayoutView",
      "align_content": null,
      "align_items": null,
      "align_self": null,
      "border": null,
      "bottom": null,
      "display": null,
      "flex": null,
      "flex_flow": null,
      "grid_area": null,
      "grid_auto_columns": null,
      "grid_auto_flow": null,
      "grid_auto_rows": null,
      "grid_column": null,
      "grid_gap": null,
      "grid_row": null,
      "grid_template_areas": null,
      "grid_template_columns": null,
      "grid_template_rows": null,
      "height": null,
      "justify_content": null,
      "justify_items": null,
      "left": null,
      "margin": null,
      "max_height": null,
      "max_width": null,
      "min_height": null,
      "min_width": null,
      "object_fit": null,
      "object_position": null,
      "order": null,
      "overflow": null,
      "overflow_x": null,
      "overflow_y": null,
      "padding": null,
      "right": null,
      "top": null,
      "visibility": null,
      "width": null
     }
    },
    "ac0a0c32b3434277afdb27ca53043c3b": {
     "model_module": "@jupyter-widgets/controls",
     "model_module_version": "1.5.0",
     "model_name": "ProgressStyleModel",
     "state": {
      "_model_module": "@jupyter-widgets/controls",
      "_model_module_version": "1.5.0",
      "_model_name": "ProgressStyleModel",
      "_view_count": null,
      "_view_module": "@jupyter-widgets/base",
      "_view_module_version": "1.2.0",
      "_view_name": "StyleView",
      "bar_color": null,
      "description_width": ""
     }
    },
    "b3b2a92cb9e94edfb6c3a2573c8e2103": {
     "model_module": "@jupyter-widgets/controls",
     "model_module_version": "1.5.0",
     "model_name": "FloatProgressModel",
     "state": {
      "_dom_classes": [],
      "_model_module": "@jupyter-widgets/controls",
      "_model_module_version": "1.5.0",
      "_model_name": "FloatProgressModel",
      "_view_count": null,
      "_view_module": "@jupyter-widgets/controls",
      "_view_module_version": "1.5.0",
      "_view_name": "ProgressView",
      "bar_style": "success",
      "description": "",
      "description_tooltip": null,
      "layout": "IPY_MODEL_c30f5b2c1cf6422fa9a58fd1dcf7edbd",
      "max": 9912422,
      "min": 0,
      "orientation": "horizontal",
      "style": "IPY_MODEL_86baa0c42d4041fe940288c0933c1874",
      "value": 9912422
     }
    },
    "c18812be47e64a2fa9d0dfcd02d623f7": {
     "model_module": "@jupyter-widgets/controls",
     "model_module_version": "1.5.0",
     "model_name": "DescriptionStyleModel",
     "state": {
      "_model_module": "@jupyter-widgets/controls",
      "_model_module_version": "1.5.0",
      "_model_name": "DescriptionStyleModel",
      "_view_count": null,
      "_view_module": "@jupyter-widgets/base",
      "_view_module_version": "1.2.0",
      "_view_name": "StyleView",
      "description_width": ""
     }
    },
    "c30f5b2c1cf6422fa9a58fd1dcf7edbd": {
     "model_module": "@jupyter-widgets/base",
     "model_module_version": "1.2.0",
     "model_name": "LayoutModel",
     "state": {
      "_model_module": "@jupyter-widgets/base",
      "_model_module_version": "1.2.0",
      "_model_name": "LayoutModel",
      "_view_count": null,
      "_view_module": "@jupyter-widgets/base",
      "_view_module_version": "1.2.0",
      "_view_name": "LayoutView",
      "align_content": null,
      "align_items": null,
      "align_self": null,
      "border": null,
      "bottom": null,
      "display": null,
      "flex": null,
      "flex_flow": null,
      "grid_area": null,
      "grid_auto_columns": null,
      "grid_auto_flow": null,
      "grid_auto_rows": null,
      "grid_column": null,
      "grid_gap": null,
      "grid_row": null,
      "grid_template_areas": null,
      "grid_template_columns": null,
      "grid_template_rows": null,
      "height": null,
      "justify_content": null,
      "justify_items": null,
      "left": null,
      "margin": null,
      "max_height": null,
      "max_width": null,
      "min_height": null,
      "min_width": null,
      "object_fit": null,
      "object_position": null,
      "order": null,
      "overflow": null,
      "overflow_x": null,
      "overflow_y": null,
      "padding": null,
      "right": null,
      "top": null,
      "visibility": null,
      "width": null
     }
    },
    "c56a621895e241aba8709b2d9b332ac4": {
     "model_module": "@jupyter-widgets/controls",
     "model_module_version": "1.5.0",
     "model_name": "DescriptionStyleModel",
     "state": {
      "_model_module": "@jupyter-widgets/controls",
      "_model_module_version": "1.5.0",
      "_model_name": "DescriptionStyleModel",
      "_view_count": null,
      "_view_module": "@jupyter-widgets/base",
      "_view_module_version": "1.2.0",
      "_view_name": "StyleView",
      "description_width": ""
     }
    },
    "cd73046d59354fe2b56fea5c3e34fac3": {
     "model_module": "@jupyter-widgets/base",
     "model_module_version": "1.2.0",
     "model_name": "LayoutModel",
     "state": {
      "_model_module": "@jupyter-widgets/base",
      "_model_module_version": "1.2.0",
      "_model_name": "LayoutModel",
      "_view_count": null,
      "_view_module": "@jupyter-widgets/base",
      "_view_module_version": "1.2.0",
      "_view_name": "LayoutView",
      "align_content": null,
      "align_items": null,
      "align_self": null,
      "border": null,
      "bottom": null,
      "display": null,
      "flex": null,
      "flex_flow": null,
      "grid_area": null,
      "grid_auto_columns": null,
      "grid_auto_flow": null,
      "grid_auto_rows": null,
      "grid_column": null,
      "grid_gap": null,
      "grid_row": null,
      "grid_template_areas": null,
      "grid_template_columns": null,
      "grid_template_rows": null,
      "height": null,
      "justify_content": null,
      "justify_items": null,
      "left": null,
      "margin": null,
      "max_height": null,
      "max_width": null,
      "min_height": null,
      "min_width": null,
      "object_fit": null,
      "object_position": null,
      "order": null,
      "overflow": null,
      "overflow_x": null,
      "overflow_y": null,
      "padding": null,
      "right": null,
      "top": null,
      "visibility": null,
      "width": null
     }
    },
    "cf710d83b5a24e71b0af4a2230376ac0": {
     "model_module": "@jupyter-widgets/base",
     "model_module_version": "1.2.0",
     "model_name": "LayoutModel",
     "state": {
      "_model_module": "@jupyter-widgets/base",
      "_model_module_version": "1.2.0",
      "_model_name": "LayoutModel",
      "_view_count": null,
      "_view_module": "@jupyter-widgets/base",
      "_view_module_version": "1.2.0",
      "_view_name": "LayoutView",
      "align_content": null,
      "align_items": null,
      "align_self": null,
      "border": null,
      "bottom": null,
      "display": null,
      "flex": null,
      "flex_flow": null,
      "grid_area": null,
      "grid_auto_columns": null,
      "grid_auto_flow": null,
      "grid_auto_rows": null,
      "grid_column": null,
      "grid_gap": null,
      "grid_row": null,
      "grid_template_areas": null,
      "grid_template_columns": null,
      "grid_template_rows": null,
      "height": null,
      "justify_content": null,
      "justify_items": null,
      "left": null,
      "margin": null,
      "max_height": null,
      "max_width": null,
      "min_height": null,
      "min_width": null,
      "object_fit": null,
      "object_position": null,
      "order": null,
      "overflow": null,
      "overflow_x": null,
      "overflow_y": null,
      "padding": null,
      "right": null,
      "top": null,
      "visibility": null,
      "width": null
     }
    },
    "e8b36c13246b43b8ac091a1a7b883c7b": {
     "model_module": "@jupyter-widgets/controls",
     "model_module_version": "1.5.0",
     "model_name": "FloatProgressModel",
     "state": {
      "_dom_classes": [],
      "_model_module": "@jupyter-widgets/controls",
      "_model_module_version": "1.5.0",
      "_model_name": "FloatProgressModel",
      "_view_count": null,
      "_view_module": "@jupyter-widgets/controls",
      "_view_module_version": "1.5.0",
      "_view_name": "ProgressView",
      "bar_style": "success",
      "description": "",
      "description_tooltip": null,
      "layout": "IPY_MODEL_3c19210edce44c2c80b070c32a9d3edc",
      "max": 1648877,
      "min": 0,
      "orientation": "horizontal",
      "style": "IPY_MODEL_572adedcc25e40638feb466e0b0d78fb",
      "value": 1648877
     }
    },
    "e928a16f51fb48409ff749ea3f15a9bb": {
     "model_module": "@jupyter-widgets/controls",
     "model_module_version": "1.5.0",
     "model_name": "HBoxModel",
     "state": {
      "_dom_classes": [],
      "_model_module": "@jupyter-widgets/controls",
      "_model_module_version": "1.5.0",
      "_model_name": "HBoxModel",
      "_view_count": null,
      "_view_module": "@jupyter-widgets/controls",
      "_view_module_version": "1.5.0",
      "_view_name": "HBoxView",
      "box_style": "",
      "children": [
       "IPY_MODEL_13545109d6dd4572952b866bc079ce07",
       "IPY_MODEL_3f88c449286e4a2dbc38b63694996b1b",
       "IPY_MODEL_677e03eaa96f47e7859643d29d01d255"
      ],
      "layout": "IPY_MODEL_6c15205eebae4ee784f06e850b5bd038"
     }
    },
    "f014c99bbc874b94ab6489fff2b340f2": {
     "model_module": "@jupyter-widgets/controls",
     "model_module_version": "1.5.0",
     "model_name": "HTMLModel",
     "state": {
      "_dom_classes": [],
      "_model_module": "@jupyter-widgets/controls",
      "_model_module_version": "1.5.0",
      "_model_name": "HTMLModel",
      "_view_count": null,
      "_view_module": "@jupyter-widgets/controls",
      "_view_module_version": "1.5.0",
      "_view_name": "HTMLView",
      "description": "",
      "description_tooltip": null,
      "layout": "IPY_MODEL_31b814b056bb4458ad12943333829443",
      "placeholder": "​",
      "style": "IPY_MODEL_550fa2a0893448f98ac04c9986878b15",
      "value": " 9913344/? [00:00&lt;00:00, 22209807.10it/s]"
     }
    },
    "f69e1458ac5d46f390e3cfe1333057b5": {
     "model_module": "@jupyter-widgets/base",
     "model_module_version": "1.2.0",
     "model_name": "LayoutModel",
     "state": {
      "_model_module": "@jupyter-widgets/base",
      "_model_module_version": "1.2.0",
      "_model_name": "LayoutModel",
      "_view_count": null,
      "_view_module": "@jupyter-widgets/base",
      "_view_module_version": "1.2.0",
      "_view_name": "LayoutView",
      "align_content": null,
      "align_items": null,
      "align_self": null,
      "border": null,
      "bottom": null,
      "display": null,
      "flex": null,
      "flex_flow": null,
      "grid_area": null,
      "grid_auto_columns": null,
      "grid_auto_flow": null,
      "grid_auto_rows": null,
      "grid_column": null,
      "grid_gap": null,
      "grid_row": null,
      "grid_template_areas": null,
      "grid_template_columns": null,
      "grid_template_rows": null,
      "height": null,
      "justify_content": null,
      "justify_items": null,
      "left": null,
      "margin": null,
      "max_height": null,
      "max_width": null,
      "min_height": null,
      "min_width": null,
      "object_fit": null,
      "object_position": null,
      "order": null,
      "overflow": null,
      "overflow_x": null,
      "overflow_y": null,
      "padding": null,
      "right": null,
      "top": null,
      "visibility": null,
      "width": null
     }
    },
    "f9ff31b9f10a43ffab1dac5852203a5b": {
     "model_module": "@jupyter-widgets/controls",
     "model_module_version": "1.5.0",
     "model_name": "DescriptionStyleModel",
     "state": {
      "_model_module": "@jupyter-widgets/controls",
      "_model_module_version": "1.5.0",
      "_model_name": "DescriptionStyleModel",
      "_view_count": null,
      "_view_module": "@jupyter-widgets/base",
      "_view_module_version": "1.2.0",
      "_view_name": "StyleView",
      "description_width": ""
     }
    },
    "fe54e72347674b5bb97cdb3199402609": {
     "model_module": "@jupyter-widgets/controls",
     "model_module_version": "1.5.0",
     "model_name": "HTMLModel",
     "state": {
      "_dom_classes": [],
      "_model_module": "@jupyter-widgets/controls",
      "_model_module_version": "1.5.0",
      "_model_name": "HTMLModel",
      "_view_count": null,
      "_view_module": "@jupyter-widgets/controls",
      "_view_module_version": "1.5.0",
      "_view_name": "HTMLView",
      "description": "",
      "description_tooltip": null,
      "layout": "IPY_MODEL_f69e1458ac5d46f390e3cfe1333057b5",
      "placeholder": "​",
      "style": "IPY_MODEL_c18812be47e64a2fa9d0dfcd02d623f7",
      "value": ""
     }
    }
   }
  }
 },
 "nbformat": 4,
 "nbformat_minor": 1
}
